{
 "cells": [
  {
   "cell_type": "code",
   "execution_count": 2,
   "metadata": {},
   "outputs": [],
   "source": [
    "from orbit_generation_testing.reader import *\n",
    "from orbit_generation_testing.processing import *"
   ]
  },
  {
   "cell_type": "code",
   "execution_count": null,
   "metadata": {},
   "outputs": [],
   "source": [
    "%load_ext autoreload\n",
    "%autoreload 2\n",
    "\n",
    "\n",
    "import numpy as np\n",
    "import sklearn\n",
    "import pandas as pd\n",
    "import copy\n",
    "import sklearn.model_selection\n",
    "import tensorflow as tf\n",
    "from tensorflow import keras\n",
    "from tensorflow.keras import layers\n",
    "\n",
    "import tsgm"
   ]
  },
  {
   "cell_type": "markdown",
   "metadata": {},
   "source": [
    "# Get Data"
   ]
  },
  {
   "cell_type": "code",
   "execution_count": null,
   "metadata": {},
   "outputs": [],
   "source": [
    "from pathlib import Path\n",
    "orbit_directory = Path(r\"C:\\Users\\alvar\\Desktop\\Orbit\\Data\")\n",
    "orbit_data, labels = get_orbit_data_and_labels(data_directory=orbit_directory)"
   ]
  },
  {
   "cell_type": "code",
   "execution_count": 6,
   "metadata": {},
   "outputs": [],
   "source": [
    "data_path = r\"C:/Users/alvar/Documents/GitHub/orbit-generation-testing/data/orbit_data_by_period.h5\"\n",
    "data = load_orbit_data(data_path, dataset_path='orbit_data')"
   ]
  },
  {
   "cell_type": "markdown",
   "metadata": {},
   "source": [
    "# Train VAE"
   ]
  },
  {
   "cell_type": "code",
   "execution_count": 7,
   "metadata": {},
   "outputs": [
    {
     "name": "stdout",
     "output_type": "stream",
     "text": [
      "The autoreload extension is already loaded. To reload it, use:\n",
      "  %reload_ext autoreload\n"
     ]
    }
   ],
   "source": [
    "%load_ext autoreload\n",
    "%autoreload 2\n",
    "\n",
    "import numpy as np\n",
    "import sklearn\n",
    "import copy\n",
    "import sklearn.model_selection\n",
    "import tensorflow as tf\n",
    "from tensorflow import keras\n",
    "from tensorflow.keras import layers\n",
    "\n",
    "import tsgm"
   ]
  },
  {
   "cell_type": "code",
   "execution_count": 8,
   "metadata": {},
   "outputs": [
    {
     "data": {
      "text/plain": [
       "(36071, 7, 7500)"
      ]
     },
     "execution_count": 8,
     "metadata": {},
     "output_type": "execute_result"
    }
   ],
   "source": [
    "hdf5_file_path = r\"C:\\Users\\alvar\\Desktop\\Orbit\\Data\\em_orbits.h5\"\n",
    "dataset_path = '/files/PERIODIC ORBITS'\n",
    "orbit_data = load_orbit_data(hdf5_file_path, dataset_path=dataset_path)\n",
    "reshaped_array = orbit_data.reshape(36071, 7, 5, 1500)\n",
    "orbit_data = reshaped_array.transpose(0, 2, 1, 3).reshape(36071 * 5, 7, 1500)\n",
    "np.save('splitted_orbits.npy', orbit_data)\n",
    "orbit_data.shape"
   ]
  },
  {
   "cell_type": "code",
   "execution_count": 3,
   "metadata": {},
   "outputs": [],
   "source": [
    "orbit_data = np.load('splitted_orbits.npy')"
   ]
  },
  {
   "cell_type": "markdown",
   "metadata": {},
   "source": [
    "Params"
   ]
  },
  {
   "cell_type": "code",
   "execution_count": 4,
   "metadata": {},
   "outputs": [],
   "source": [
    "latent_dim = 32\n",
    "feature_dim = 7\n",
    "seq_len = 500\n",
    "batch_size = 32\n",
    "epochs = 10"
   ]
  },
  {
   "cell_type": "code",
   "execution_count": 5,
   "metadata": {},
   "outputs": [],
   "source": [
    "resampled_orbits = np.transpose(resampled_orbits, (0, 2, 1))"
   ]
  },
  {
   "cell_type": "code",
   "execution_count": 6,
   "metadata": {},
   "outputs": [],
   "source": [
    "architecture = tsgm.models.zoo[\"vae_conv5\"](seq_len=seq_len, feat_dim=feature_dim, latent_dim=latent_dim)\n",
    "encoder, decoder = architecture.encoder, architecture.decoder"
   ]
  },
  {
   "cell_type": "code",
   "execution_count": 7,
   "metadata": {},
   "outputs": [
    {
     "data": {
      "text/plain": [
       "(180355, 500, 7)"
      ]
     },
     "execution_count": 7,
     "metadata": {},
     "output_type": "execute_result"
    }
   ],
   "source": [
    "scaler = tsgm.utils.TSFeatureWiseScaler()        \n",
    "scaled_data = scaler.fit_transform(resampled_orbits) ####\n",
    "scaled_data.shape"
   ]
  },
  {
   "cell_type": "code",
   "execution_count": 8,
   "metadata": {},
   "outputs": [
    {
     "name": "stdout",
     "output_type": "stream",
     "text": [
      "Epoch 1/10\n",
      "   2/5637 [..............................] - ETA: 313:39:11 - loss: 2834.4039 - reconstruction_loss: 2713.4011 - kl_loss: 0.5689"
     ]
    }
   ],
   "source": [
    "vae = tsgm.models.cvae.BetaVAE(encoder, decoder)\n",
    "vae.compile(optimizer=keras.optimizers.Adam())\n",
    "\n",
    "vae.fit(scaled_data, epochs=epochs, batch_size=batch_size)"
   ]
  },
  {
   "cell_type": "code",
   "execution_count": null,
   "metadata": {},
   "outputs": [],
   "source": [
    "x_decoded = vae.predict(scaled_data)"
   ]
  },
  {
   "cell_type": "code",
   "execution_count": null,
   "metadata": {},
   "outputs": [],
   "source": [
    "generation = vae.generate(100)\n",
    "generation.shape"
   ]
  },
  {
   "cell_type": "code",
   "execution_count": null,
   "metadata": {},
   "outputs": [],
   "source": [
    "tsgm.utils.visualize_original_and_reconst_ts(scaled_data, x_decoded, num=10)"
   ]
  },
  {
   "cell_type": "code",
   "execution_count": null,
   "metadata": {},
   "outputs": [],
   "source": [
    "# Encode data into the latent space\n",
    "latent_representations = encoder.predict(scaled_data)"
   ]
  },
  {
   "cell_type": "code",
   "execution_count": null,
   "metadata": {},
   "outputs": [],
   "source": [
    "from sklearn.manifold import TSNE\n",
    "import matplotlib.pyplot as plt\n",
    "\n",
    "# Encode data into the latent space\n",
    "latent_mean, _, _ = vae.encoder(scaled_data)\n",
    "latent_representations = latent_mean.numpy()  # Convert tensor to numpy array\n",
    "\n",
    "# Use t-SNE to reduce dimensionality for visualization\n",
    "tsne = TSNE(n_components=2, random_state=42)\n",
    "tsne_results = tsne.fit_transform(latent_representations)\n",
    "\n",
    "# Plot the t-SNE output\n",
    "plt.figure(figsize=(10, 7))\n",
    "plt.scatter(tsne_results[:, 0], tsne_results[:, 1], alpha=0.5)\n",
    "plt.xlabel('t-SNE dimension 1')\n",
    "plt.ylabel('t-SNE dimension 2')\n",
    "plt.title('Latent Space Visualization')\n",
    "plt.show()"
   ]
  }
 ],
 "metadata": {
  "kernelspec": {
   "display_name": "testing-orbit-generation",
   "language": "python",
   "name": "python3"
  },
  "language_info": {
   "codemirror_mode": {
    "name": "ipython",
    "version": 3
   },
   "file_extension": ".py",
   "mimetype": "text/x-python",
   "name": "python",
   "nbconvert_exporter": "python",
   "pygments_lexer": "ipython3",
   "version": "3.10.14"
  }
 },
 "nbformat": 4,
 "nbformat_minor": 2
}
