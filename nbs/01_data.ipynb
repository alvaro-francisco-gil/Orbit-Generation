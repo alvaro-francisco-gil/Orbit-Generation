{
 "cells": [
  {
   "cell_type": "markdown",
   "metadata": {},
   "source": [
    "# reader\n",
    "\n",
    "> Necessary scripts to read orbits from different formats"
   ]
  },
  {
   "cell_type": "code",
   "execution_count": null,
   "metadata": {},
   "outputs": [],
   "source": [
    "#| default_exp reader"
   ]
  },
  {
   "cell_type": "code",
   "execution_count": null,
   "metadata": {},
   "outputs": [],
   "source": [
    "#| hide\n",
    "#| export\n",
    "import h5py\n",
    "from scipy.io import loadmat\n",
    "import numpy as np\n",
    "import pandas as pd\n",
    "from typing import Optional, Any"
   ]
  },
  {
   "cell_type": "code",
   "execution_count": null,
   "metadata": {},
   "outputs": [],
   "source": [
    "#| hide\n",
    "#| export\n",
    "from unittest.mock import patch, MagicMock\n",
    "from fastcore.test import test_eq"
   ]
  },
  {
   "cell_type": "markdown",
   "metadata": {},
   "source": [
    "## Loading Data"
   ]
  },
  {
   "cell_type": "code",
   "execution_count": null,
   "metadata": {},
   "outputs": [],
   "source": [
    "#| export\n",
    "def load_orbit_data(file_path: str,  # The path to the .mat, .h5, or .npy file.\n",
    "                    variable_name: Optional[str] = None,  # Name of the variable in the .mat file, optional.\n",
    "                    dataset_path: Optional[str] = None  # Path to the dataset in the .h5 file, optional.\n",
    "                   ) -> Any:  # The loaded orbit data.\n",
    "    \"\"\"\n",
    "    Load orbit data from MATLAB .mat files, HDF5 .h5 files, or NumPy .npy files.\n",
    "    \"\"\"\n",
    "    if file_path.endswith('.mat'):\n",
    "        if variable_name is None:\n",
    "            raise ValueError(\"variable_name must be provided for .mat files\")\n",
    "        mat = loadmat(file_path)\n",
    "        if variable_name in mat:\n",
    "            data = mat[variable_name]\n",
    "        else:\n",
    "            raise ValueError(f\"{variable_name} not found in {file_path}\")\n",
    "\n",
    "    elif file_path.endswith('.h5'):\n",
    "        with h5py.File(file_path, 'r') as file:\n",
    "            if dataset_path is None:\n",
    "                raise ValueError(\"dataset_path must be provided for .h5 files\")\n",
    "            if dataset_path in file:\n",
    "                data = np.array(file[dataset_path])\n",
    "            else:\n",
    "                raise ValueError(f\"{dataset_path} not found in {file_path}\")\n",
    "\n",
    "    elif file_path.endswith('.npy'):\n",
    "        data = np.load(file_path)\n",
    "\n",
    "    else:\n",
    "        raise ValueError(\"Unsupported file format. Please provide a .mat, .h5, or .npy file.\")\n",
    "    \n",
    "    return data"
   ]
  },
  {
   "cell_type": "code",
   "execution_count": null,
   "metadata": {},
   "outputs": [],
   "source": [
    "#| test load_orbit_data\n",
    "#| hide\n",
    "mock_mat_data = {'Xarray': np.array([1, 2, 3])}\n",
    "mock_h5_data = np.array([4, 5, 6])\n",
    "mock_npy_data = np.array([7, 8, 9])\n",
    "\n",
    "# Test for load_orbit_data with .mat file\n",
    "with patch('__main__.loadmat', return_value=mock_mat_data) as mock_loadmat:\n",
    "    result = load_orbit_data('test_data.mat', variable_name='Xarray')\n",
    "    assert (result == mock_mat_data['Xarray']).all(), \"MAT file loading failed or data mismatch\"\n",
    "    mock_loadmat.assert_called_once_with('test_data.mat')\n",
    "\n",
    "# Test for load_orbit_data with .h5 file\n",
    "with patch('__main__.h5py.File') as mock_h5py:\n",
    "    mock_file = MagicMock()\n",
    "    mock_file.__enter__.return_value = {'/files/PERIODIC ORBITS': mock_h5_data}\n",
    "    mock_h5py.return_value = mock_file\n",
    "    result = load_orbit_data('test_data.h5', dataset_path='/files/PERIODIC ORBITS')\n",
    "    assert (result == mock_h5_data).all(), \"H5 file loading failed or data mismatch\"\n",
    "\n",
    "# Test for load_orbit_data with .npy file\n",
    "with patch('numpy.load', return_value=mock_npy_data) as mock_load:\n",
    "    result = load_orbit_data('test_data.npy')\n",
    "    assert (result == mock_npy_data).all(), \"NPY file loading failed or data mismatch\"\n",
    "    mock_load.assert_called_once_with('test_data.npy')"
   ]
  },
  {
   "cell_type": "code",
   "execution_count": null,
   "metadata": {},
   "outputs": [],
   "source": [
    "#| export\n",
    "def get_orbit_features(file_path: str,  # The path to the file (can be .mat, .h5, or .npy).\n",
    "                       variable_name: Optional[str] = None,  # Name of the variable in the .mat file, optional.\n",
    "                       dataset_path: Optional[str] = None  # Path to the dataset in the .h5 file, optional.\n",
    "                      ) -> pd.DataFrame:  # DataFrame with detailed orbit features.\n",
    "    \"\"\"\n",
    "    Load orbit feature data from a specified file and convert it to a DataFrame.\n",
    "    \"\"\"\n",
    "    # Load data using the previously defined function that supports .mat, .h5, and .npy files\n",
    "    orbit_data = load_orbit_data(file_path, variable_name=variable_name, dataset_path=dataset_path)\n",
    "    \n",
    "    # Define column labels for the DataFrame\n",
    "    column_labels = [\n",
    "        'Orbit Family', 'Initial Position X', 'Initial Position Y', 'Initial Position Z',\n",
    "        'Initial Velocity X', 'Initial Velocity Y', 'Initial Velocity Z',\n",
    "        'Jacobi Constant', 'Period', 'Stability Index'\n",
    "    ]\n",
    "    \n",
    "    # Create a DataFrame from the loaded data\n",
    "    features = pd.DataFrame(orbit_data, columns=column_labels)\n",
    "\n",
    "    return features"
   ]
  },
  {
   "cell_type": "code",
   "execution_count": null,
   "metadata": {},
   "outputs": [],
   "source": [
    "#| test get_orbit_features\n",
    "#| hide\n",
    "def test_get_orbit_features():\n",
    "    # Sample data simulating what might be returned by load_orbit_data\n",
    "    mock_data = np.array([\n",
    "        [1, 0, 0, 0, 1, 0, 0, 3.0, 2.0, 1.0],\n",
    "        [2, 1, 1, 1, 0, 1, 0, 2.5, 1.5, 0.5]\n",
    "    ])\n",
    "    \n",
    "    # Expected DataFrame structure\n",
    "    expected_columns = [\n",
    "        'Orbit Family', 'Initial Position X', 'Initial Position Y', 'Initial Position Z',\n",
    "        'Initial Velocity X', 'Initial Velocity Y', 'Initial Velocity Z',\n",
    "        'Jacobi Constant', 'Period', 'Stability Index'\n",
    "    ]\n",
    "    expected_df = pd.DataFrame(mock_data, columns=expected_columns)\n",
    "    \n",
    "    # Patch the load_orbit_data function to return mock_data\n",
    "    with patch('__main__.load_orbit_data', return_value=mock_data) as mock_load_orbit_data:\n",
    "        # Test for .mat file\n",
    "        result_df = get_orbit_features('dummy_path.mat', variable_name='dummy_var')\n",
    "        test_eq(result_df.equals(expected_df), True)\n",
    "        \n",
    "        # Ensure the mock was called correctly\n",
    "        mock_load_orbit_data.assert_called_once_with('dummy_path.mat', variable_name='dummy_var', dataset_path=None)\n",
    "\n",
    "        # Test for .h5 file with dataset_path\n",
    "        mock_load_orbit_data.reset_mock()\n",
    "        result_df = get_orbit_features('dummy_path.h5', dataset_path='dummy_dataset')\n",
    "        test_eq(result_df.equals(expected_df), True)\n",
    "        \n",
    "        # Ensure the mock was called correctly\n",
    "        mock_load_orbit_data.assert_called_once_with('dummy_path.h5', variable_name=None, dataset_path='dummy_dataset')\n",
    "\n",
    "        # Test for .npy file\n",
    "        mock_load_orbit_data.reset_mock()\n",
    "        result_df = get_orbit_features('dummy_path.npy')\n",
    "        test_eq(result_df.equals(expected_df), True)\n",
    "        \n",
    "        # Ensure the mock was called correctly\n",
    "        mock_load_orbit_data.assert_called_once_with('dummy_path.npy', variable_name=None, dataset_path=None)\n",
    "\n",
    "# Call the test function to execute tests\n",
    "test_get_orbit_features()"
   ]
  },
  {
   "cell_type": "markdown",
   "metadata": {},
   "source": [
    "## Save Data"
   ]
  },
  {
   "cell_type": "code",
   "execution_count": null,
   "metadata": {},
   "outputs": [],
   "source": [
    "#| export\n",
    "def save_data(data: np.ndarray,  # The numpy array data to save.\n",
    "              file_name: str,  # The name of the file to save the data in.\n",
    "              file_type: str = 'hdf5'  # The type of file to save ('hdf5' or 'npy').\n",
    "             ) -> None:\n",
    "    \"\"\"\n",
    "    Save a numpy array to an HDF5 or a NumPy .npy file based on the specified file type.\n",
    "    \"\"\"\n",
    "    if file_type == 'hdf5':\n",
    "        # Open a new HDF5 file\n",
    "        with h5py.File(file_name, 'w') as f:\n",
    "            # Create a dataset in the file\n",
    "            f.create_dataset('orbit_data', data=data, compression='gzip', compression_opts=9)\n",
    "    elif file_type == 'npy':\n",
    "        # Save the array to a NumPy .npy file\n",
    "        np.save(file_name, data)\n",
    "    else:\n",
    "        raise ValueError(\"Unsupported file type specified. Use 'hdf5' or 'npy'.\")"
   ]
  },
  {
   "cell_type": "code",
   "execution_count": null,
   "metadata": {},
   "outputs": [],
   "source": [
    "#| test save_data\n",
    "#| hide\n",
    "# Test for NPY saving functionality\n",
    "def test_save_data_npy():\n",
    "    data = np.random.rand(5, 5)\n",
    "    file_name = 'test_data.npy'\n",
    "\n",
    "    with patch('numpy.save', autospec=True) as mock_save:\n",
    "        save_data(data, file_name, 'npy')\n",
    "        mock_save.assert_called_once_with(file_name, data)\n",
    "\n",
    "test_save_data_npy()\n",
    "\n",
    "# Test for handling invalid file type\n",
    "def test_save_data_invalid_type():\n",
    "    data = np.random.rand(5, 5)\n",
    "    file_name = 'test_data.unknown'\n",
    "\n",
    "    try:\n",
    "        save_data(data, file_name, 'unknown')\n",
    "        assert False, \"ValueError expected but not raised\"\n",
    "    except ValueError as e:\n",
    "        assert str(e) == \"Unsupported file type specified. Use 'hdf5' or 'npy'.\", \"Incorrect error message\"\n",
    "\n",
    "test_save_data_invalid_type()\n"
   ]
  },
  {
   "cell_type": "markdown",
   "metadata": {},
   "source": [
    "## Get Example Data"
   ]
  },
  {
   "cell_type": "code",
   "execution_count": null,
   "metadata": {},
   "outputs": [],
   "source": [
    "#| export\n",
    "def get_example_orbit_data():\n",
    "    \"\"\"\n",
    "    Load orbit data from a hardcoded MAT file located in the `data` directory.\n",
    "    \n",
    "    The function is specifically designed to load the 'Xarray' variable \n",
    "    from the '1_L2_S_200_EM_CR3BP.mat' file. This setup is intended for \n",
    "    demonstration or testing purposes, where the data file and the variable \n",
    "    of interest are known ahead of time.\n",
    "\n",
    "    :return: A numpy.ndarray containing the transposed data from the MAT file.\n",
    "    \"\"\"\n",
    "    # Hardcoded file name and variable name\n",
    "    filename = \"example_orbits_1_L2_S_200_EM_CR3BP.mat\"\n",
    "    variable_name = 'Xarray'\n",
    "    \n",
    "    # Assuming the notebook or script is executed in a directory at the same level as the `data` folder\n",
    "    matlab_file_path = '..' + \"/data/\" + filename\n",
    "    \n",
    "    # Assuming `load_orbit_data` is a predefined function that loads and returns data from the .mat file\n",
    "    data = load_orbit_data(str(matlab_file_path), variable_name=variable_name)\n",
    "    # Transpose the data for further use\n",
    "    data = np.transpose(data, (2, 1, 0))\n",
    "    \n",
    "    return data"
   ]
  },
  {
   "cell_type": "code",
   "execution_count": null,
   "metadata": {},
   "outputs": [
    {
     "data": {
      "text/plain": [
       "(200, 6, 300)"
      ]
     },
     "execution_count": null,
     "metadata": {},
     "output_type": "execute_result"
    }
   ],
   "source": [
    "# | test\n",
    "data = get_example_orbit_data()\n",
    "data.shape"
   ]
  },
  {
   "cell_type": "code",
   "execution_count": null,
   "metadata": {},
   "outputs": [],
   "source": [
    "#| hide\n",
    "import nbdev; nbdev.nbdev_export()"
   ]
  }
 ],
 "metadata": {
  "kernelspec": {
   "display_name": "python3",
   "language": "python",
   "name": "python3"
  }
 },
 "nbformat": 4,
 "nbformat_minor": 4
}
