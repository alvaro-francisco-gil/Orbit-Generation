{
 "cells": [
  {
   "cell_type": "markdown",
   "metadata": {},
   "source": [
    "# processing\n",
    "\n",
    "> Necessary scripts to read orbits from different formats"
   ]
  },
  {
   "cell_type": "code",
   "execution_count": null,
   "metadata": {},
   "outputs": [],
   "source": [
    "#| default_exp processing"
   ]
  },
  {
   "cell_type": "code",
   "execution_count": null,
   "metadata": {},
   "outputs": [],
   "source": [
    "#| export\n",
    "import numpy as np\n",
    "from nbdev.showdoc import *"
   ]
  },
  {
   "cell_type": "code",
   "execution_count": null,
   "metadata": {},
   "outputs": [],
   "source": [
    "#| export\n",
    "def reshape_orbit_data(input_array):\n",
    "    \"\"\"\n",
    "    Reshapes the input array from 'time instants', 'scalars indicating position and velocity',\n",
    "    and 'number of orbits' to 'number of orbits', 'scalars indicating position and velocity',\n",
    "    and 'time instants'.\n",
    "    \n",
    "    Parameters:\n",
    "    - input_array: A numpy array with dimensions in the order of 'time instants',\n",
    "                   'scalars indicating position and velocity', and 'number of orbits'.\n",
    "                   \n",
    "    Returns:\n",
    "    - reshaped_array: A numpy array with dimensions in the order of 'number of orbits',\n",
    "                      'scalars indicating position and velocity', and 'time instants'.\n",
    "    \"\"\"\n",
    "    reshaped_array = np.transpose(input_array, (2, 1, 0))\n",
    "    \n",
    "    return reshaped_array"
   ]
  },
  {
   "cell_type": "code",
   "execution_count": null,
   "metadata": {},
   "outputs": [],
   "source": [
    "#| test \"reshape_orbit_data\"\n",
    "input_array = np.random.rand(10, 3, 5)  # 10 time instants, 3 scalars, 5 orbits\n",
    "reshaped_array = reshape_orbit_data(input_array)\n",
    "assert reshaped_array.shape == (5, 3, 10), \"Reshaping did not occur as expected.\""
   ]
  },
  {
   "cell_type": "code",
   "execution_count": null,
   "metadata": {},
   "outputs": [],
   "source": [
    "#| export\n",
    "def select_and_remove(data, select_n):\n",
    "    \"\"\"\n",
    "    Select elements from the first dimension of the data and remove the first index\n",
    "    from the second dimension.\n",
    "    \n",
    "    Parameters:\n",
    "    - data: A 3D NumPy array.\n",
    "    - select_n: An integer specifying the number of random elements to select from\n",
    "                the first dimension, or a list of specific indices to select.\n",
    "    \n",
    "    Returns:\n",
    "    - A new array with the selected elements and without the first index in the\n",
    "      second dimension.\n",
    "    \"\"\"\n",
    "    \n",
    "    # Check if select_n is an integer (for random selection)\n",
    "    if isinstance(select_n, int):\n",
    "        indices = np.random.choice(data.shape[0], select_n, replace=False)\n",
    "    elif isinstance(select_n, list):\n",
    "        indices = np.array(select_n)\n",
    "    else:\n",
    "        raise ValueError(\"select_n must be an integer or a list of integers\")\n",
    "    \n",
    "    # Selecting the data based on indices\n",
    "    selected_data = data[indices]\n",
    "    \n",
    "    # Removing the time dimension\n",
    "    reshaped_data = np.delete(selected_data, 0, axis=1)\n",
    "    \n",
    "    return reshaped_data"
   ]
  },
  {
   "cell_type": "code",
   "execution_count": null,
   "metadata": {},
   "outputs": [],
   "source": [
    "#| test \"select_and_remove with integer\"\n",
    "np.random.seed(0)  # Optional for reproducibility\n",
    "data = np.random.rand(10, 3, 2)  # Sample data\n",
    "result = select_and_remove(data, 2)\n",
    "assert result.shape == (2, 2, 2), \"Shape mismatch for integer select_n.\"\n",
    "\n",
    "#| test \"select_and_remove with list\"\n",
    "data = np.random.rand(10, 3, 2)  # Sample data\n",
    "result = select_and_remove(data, [1, 3])\n",
    "assert result.shape == (2, 2, 2), \"Shape mismatch for list select_n.\""
   ]
  },
  {
   "cell_type": "code",
   "execution_count": null,
   "metadata": {},
   "outputs": [],
   "source": [
    "#| hide\n",
    "import nbdev; nbdev.nbdev_export()"
   ]
  }
 ],
 "metadata": {
  "kernelspec": {
   "display_name": "python3",
   "language": "python",
   "name": "python3"
  }
 },
 "nbformat": 4,
 "nbformat_minor": 4
}
