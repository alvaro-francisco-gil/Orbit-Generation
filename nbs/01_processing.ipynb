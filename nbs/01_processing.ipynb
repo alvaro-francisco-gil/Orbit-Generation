{
 "cells": [
  {
   "cell_type": "markdown",
   "metadata": {},
   "source": [
    "# processing\n",
    "\n",
    "> Necessary scripts to read orbits from different formats"
   ]
  },
  {
   "cell_type": "code",
   "execution_count": null,
   "metadata": {},
   "outputs": [],
   "source": [
    "#| default_exp processing"
   ]
  },
  {
   "cell_type": "code",
   "execution_count": null,
   "metadata": {},
   "outputs": [],
   "source": [
    "from scipy.interpolate import interp1d\n",
    "import numpy as np"
   ]
  },
  {
   "cell_type": "code",
   "execution_count": null,
   "metadata": {},
   "outputs": [],
   "source": [
    "from orbit_generation_testing.reader import get_example_orbit_data"
   ]
  },
  {
   "cell_type": "code",
   "execution_count": null,
   "metadata": {},
   "outputs": [],
   "source": [
    "orbit_data= get_example_orbit_data()\n",
    "orbit_data.shape"
   ]
  },
  {
   "cell_type": "code",
   "execution_count": null,
   "metadata": {},
   "outputs": [],
   "source": [
    "def resample_3d_array(data, axis, target_size):\n",
    "    \"\"\"\n",
    "    Resample a 3D numpy array along a specified axis using linear interpolation, with correct dimension handling.\n",
    "\n",
    "    Parameters:\n",
    "        data (numpy.ndarray): The original 3D array.\n",
    "        axis (int): The axis along which to perform the interpolation (0, 1, or 2).\n",
    "        target_size (int): The desired size of the specified axis after interpolation.\n",
    "    \n",
    "    Returns:\n",
    "        numpy.ndarray: A new array with the specified axis resized to `target_size`.\n",
    "    \"\"\"\n",
    "    # Validate the axis\n",
    "    if axis not in [0, 1, 2]:\n",
    "        raise ValueError(\"Invalid axis. Axis must be 0, 1, or 2.\")\n",
    "\n",
    "    # Prepare indices for interpolation\n",
    "    old_indices = np.linspace(0, 1, num=data.shape[axis])\n",
    "    new_indices = np.linspace(0, 1, num=target_size)\n",
    "\n",
    "    # Initialize the output array\n",
    "    new_shape = list(data.shape)\n",
    "    new_shape[axis] = target_size\n",
    "    new_data = np.empty(new_shape, dtype=data.dtype)\n",
    "    \n",
    "    # Perform interpolation along the specified axis\n",
    "    if axis == 0:\n",
    "        for i in range(data.shape[1]):\n",
    "            for j in range(data.shape[2]):\n",
    "                interpolator = interp1d(old_indices, data[:, i, j], kind='linear')\n",
    "                new_data[:, i, j] = interpolator(new_indices)\n",
    "    elif axis == 1:\n",
    "        for i in range(data.shape[0]):\n",
    "            for j in range(data.shape[2]):\n",
    "                interpolator = interp1d(old_indices, data[i, :, j], kind='linear')\n",
    "                new_data[i, :, j] = interpolator(new_indices)\n",
    "    else:\n",
    "        for i in range(data.shape[0]):\n",
    "            for j in range(data.shape[1]):\n",
    "                interpolator = interp1d(old_indices, data[i, j, :], kind='linear')\n",
    "                new_data[i, j, :] = interpolator(new_indices)\n",
    "\n",
    "    return new_data"
   ]
  },
  {
   "cell_type": "code",
   "execution_count": null,
   "metadata": {},
   "outputs": [],
   "source": [
    "def average_downsample_3d_array(data, axis, target_size):\n",
    "    \"\"\"\n",
    "    Downsample a 3D numpy array along a specified axis using averaging.\n",
    "\n",
    "    Parameters:\n",
    "        data (numpy.ndarray): The original 3D array.\n",
    "        axis (int): The axis along which to perform the downsampling (0, 1, or 2).\n",
    "        target_size (int): The desired size of the specified axis after downsampling.\n",
    "    \n",
    "    Returns:\n",
    "        numpy.ndarray: A new array with the specified axis resized to `target_size`.\n",
    "    \"\"\"\n",
    "    # Validate the axis\n",
    "    if axis not in [0, 1, 2]:\n",
    "        raise ValueError(\"Invalid axis. Axis must be 0, 1, or 2.\")\n",
    "\n",
    "    # Determine the number of elements in each block to be averaged\n",
    "    original_size = data.shape[axis]\n",
    "    block_size = original_size / target_size\n",
    "\n",
    "    # Initialize the output array\n",
    "    new_shape = list(data.shape)\n",
    "    new_shape[axis] = target_size\n",
    "    new_data = np.empty(new_shape, dtype=data.dtype)\n",
    "\n",
    "    # Perform averaging along the specified axis\n",
    "    if axis == 0:\n",
    "        for i in range(target_size):\n",
    "            start_idx = int(i * block_size)\n",
    "            end_idx = int((i + 1) * block_size)\n",
    "            new_data[i, :, :] = np.mean(data[start_idx:end_idx, :, :], axis=0)\n",
    "    elif axis == 1:\n",
    "        for i in range(target_size):\n",
    "            start_idx = int(i * block_size)\n",
    "            end_idx = int((i + 1) * block_size)\n",
    "            new_data[:, i, :] = np.mean(data[:, start_idx:end_idx, :], axis=1)\n",
    "    else:  # axis == 2\n",
    "        for i in range(target_size):\n",
    "            start_idx = int(i * block_size)\n",
    "            end_idx = int((i + 1) * block_size)\n",
    "            new_data[:, :, i] = np.mean(data[:, :, start_idx:end_idx], axis=2)\n",
    "\n",
    "    return new_data"
   ]
  },
  {
   "cell_type": "code",
   "execution_count": null,
   "metadata": {},
   "outputs": [],
   "source": [
    "import time\n",
    "subset = orbit_data[:5, :, :]  # Take the first 5 elements of the primary axis\n",
    "\n",
    "# Measure time for the interpolation function on the subset\n",
    "start_time = time.time()\n",
    "resampled_subset = resample_3d_array(subset, axis=2, target_size=500)\n",
    "elapsed_time_interpolation_subset = time.time() - start_time\n",
    "estimated_total_time_interpolation = (elapsed_time_interpolation_subset / 5) * orbit_data.shape[0]\n",
    "\n",
    "# Measure time for the averaging function on the subset\n",
    "start_time = time.time()\n",
    "downsampled_subset = average_downsample_3d_array(subset, axis=2, target_size=500)\n",
    "elapsed_time_averaging_subset = time.time() - start_time\n",
    "estimated_total_time_averaging = (elapsed_time_averaging_subset / 5) * orbit_data.shape[0]\n",
    "\n",
    "print(f\"Estimated Total Interpolation Time: {estimated_total_time_interpolation} seconds\")\n",
    "print(f\"Estimated Total Averaging Time: {estimated_total_time_averaging} seconds\")"
   ]
  },
  {
   "cell_type": "code",
   "execution_count": null,
   "metadata": {},
   "outputs": [],
   "source": [
    "#| hide\n",
    "import nbdev; nbdev.nbdev_export()"
   ]
  }
 ],
 "metadata": {
  "kernelspec": {
   "display_name": "python3",
   "language": "python",
   "name": "python3"
  }
 },
 "nbformat": 4,
 "nbformat_minor": 4
}
