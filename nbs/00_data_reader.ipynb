{
 "cells": [
  {
   "cell_type": "markdown",
   "metadata": {},
   "source": [
    "# reader\n",
    "\n",
    "> Necessary scripts to read orbits from different formats"
   ]
  },
  {
   "cell_type": "code",
   "execution_count": null,
   "metadata": {},
   "outputs": [],
   "source": [
    "#| default_exp reader"
   ]
  },
  {
   "cell_type": "code",
   "execution_count": null,
   "metadata": {},
   "outputs": [],
   "source": [
    "#| export\n",
    "import h5py\n",
    "from scipy.io import loadmat\n",
    "import numpy as np\n",
    "from pathlib import Path\n",
    "import pandas as pd"
   ]
  },
  {
   "cell_type": "code",
   "execution_count": null,
   "metadata": {},
   "outputs": [],
   "source": [
    "from unittest.mock import patch, MagicMock"
   ]
  },
  {
   "cell_type": "markdown",
   "metadata": {},
   "source": [
    "## Loading Data"
   ]
  },
  {
   "cell_type": "markdown",
   "metadata": {},
   "source": [
    "This function loads orbit data from .mat or .h5"
   ]
  },
  {
   "cell_type": "code",
   "execution_count": null,
   "metadata": {},
   "outputs": [],
   "source": [
    "#| export\n",
    "def load_orbit_data(file_path, variable_name=None, dataset_path=None):\n",
    "    \"\"\"\n",
    "    Load orbit data from MATLAB .mat files or HDF5 .h5 files.\n",
    "\n",
    "    Parameters:\n",
    "    - file_path: str, the path to the .mat or .h5 file.\n",
    "    - variable_name: str, optional, the name of the variable in the .mat file.\n",
    "    - dataset_path: str, optional, the path to the dataset in the .h5 file.\n",
    "\n",
    "    Returns:\n",
    "    - data: The loaded orbit data.\n",
    "    \"\"\"\n",
    "    if file_path.endswith('.mat'):\n",
    "        if variable_name is None:\n",
    "            raise ValueError(\"variable_name must be provided for .mat files\")\n",
    "        mat = loadmat(file_path)\n",
    "        if variable_name in mat:\n",
    "            data = mat[variable_name]\n",
    "        else:\n",
    "            raise ValueError(f\"{variable_name} not found in {file_path}\")\n",
    "    \n",
    "    elif file_path.endswith('.h5'):\n",
    "        with h5py.File(file_path, 'r') as file:\n",
    "            if dataset_path:\n",
    "                if dataset_path in file:\n",
    "                    data = np.array(file[dataset_path])\n",
    "                else:\n",
    "                    raise ValueError(f\"{dataset_path} not found in {file_path}\")\n",
    "    \n",
    "    else:\n",
    "        raise ValueError(\"Unsupported file format. Please provide a .mat or .h5 file.\")\n",
    "    \n",
    "    return data"
   ]
  },
  {
   "cell_type": "code",
   "execution_count": null,
   "metadata": {},
   "outputs": [],
   "source": [
    "#| test \"load_orbit_data with .mat file\"\n",
    "mock_mat_data = {'Xarray': np.array([1, 2, 3])}\n",
    "mock_h5_data = np.array([4, 5, 6])\n",
    "\n",
    "# Test for load_orbit_data with .mat file\n",
    "with patch('__main__.loadmat', return_value=mock_mat_data) as mock_loadmat:\n",
    "    result = load_orbit_data('test_data.mat', variable_name='Xarray')\n",
    "    assert (result == mock_mat_data['Xarray']).all(), \"MAT file loading failed or data mismatch\"\n",
    "    mock_loadmat.assert_called_once_with('test_data.mat')\n",
    "\n",
    "# Test for load_orbit_data with .h5 file\n",
    "with patch('__main__.h5py.File') as mock_h5py:\n",
    "    mock_file = MagicMock()\n",
    "    mock_file.__enter__.return_value = {'/files/PERIODIC ORBITS': mock_h5_data}\n",
    "    mock_h5py.return_value = mock_file\n",
    "    result = load_orbit_data('test_data.h5', dataset_path='/files/PERIODIC ORBITS')\n",
    "    assert (result == mock_h5_data).all(), \"H5 file loading failed or data mismatch\""
   ]
  },
  {
   "cell_type": "markdown",
   "metadata": {},
   "source": [
    "### Functions to return data directly"
   ]
  },
  {
   "cell_type": "code",
   "execution_count": null,
   "metadata": {},
   "outputs": [],
   "source": [
    "#| export\n",
    "def get_orbit_features(data_directory=None):\n",
    "    \"\"\"\n",
    "    Load orbit feature data from a MAT file located in the specified directory or a default 'Data' directory.\n",
    "\n",
    "    :param data_directory: Optional; The directory where the MAT file is stored. If not specified, \n",
    "                           the function assumes a default directory relative to the script's location.\n",
    "    :type data_directory: pathlib.Path, optional\n",
    "    \n",
    "    :return: A DataFrame containing detailed orbit features such as family, positions, velocities, \n",
    "             Jacobi constant, period, and stability index.\n",
    "    :rtype: pandas.DataFrame\n",
    "    \"\"\"\n",
    "\n",
    "    # Set default data directory if not provided\n",
    "    if data_directory is None:\n",
    "        data_directory = Path(__file__).parent / \"Data\"\n",
    "    \n",
    "    # Path to the MAT file containing orbit features\n",
    "    feat_route = data_directory / \"EM_IC_ARRAY.mat\"\n",
    "    \n",
    "    # Load data from the MAT file\n",
    "    feat = load_orbit_data(feat_route, variable_name='out_EM')\n",
    "    \n",
    "    # Define column labels for the DataFrame\n",
    "    column_labels = [\n",
    "        'Orbit Family', 'Initial Position X', 'Initial Position Y', 'Initial Position Z',\n",
    "        'Initial Velocity X', 'Initial Velocity Y', 'Initial Velocity Z',\n",
    "        'Jacobi Constant', 'Period', 'Stability Index'\n",
    "    ]\n",
    "    \n",
    "    # Create a DataFrame from the loaded data\n",
    "    features = pd.DataFrame(feat, columns=column_labels)\n",
    "\n",
    "    return features\n"
   ]
  },
  {
   "cell_type": "code",
   "execution_count": null,
   "metadata": {},
   "outputs": [],
   "source": [
    "#| export\n",
    "def get_orbit_data_and_labels(data_directory=None):\n",
    "    \"\"\"\n",
    "    Load orbit data and corresponding labels from predefined locations relative to the script's execution directory.\n",
    "\n",
    "    The function loads a specific dataset from an HDF5 file and a set of labels from a MAT file, both expected to be \n",
    "    in a predefined directory structure. This setup is intended for demonstration or testing purposes, where the file \n",
    "    structure and the dataset paths are known ahead of time.\n",
    "\n",
    "    Returns:\n",
    "        tuple: \n",
    "            - orbit_data (numpy.ndarray): Array containing the reshaped orbit data from the HDF5 file. \n",
    "              The data is reshaped and transposed to match the desired format for analysis.\n",
    "            - labels (pandas.Series): Series containing the orbit classification labels repeated to match \n",
    "              the reshaped data.\n",
    "\n",
    "    The reshaped data array involves transposing dimensions to reorganize the data for further processing.\n",
    "    Each row in the Series corresponds to a specific orbit with its classification.\n",
    "    \"\"\"\n",
    "\n",
    "    # Get Orbit Data\n",
    "    if data_directory is None:\n",
    "        data_directory = Path(__file__).parent / \"Data\"\n",
    "    hdf5_file_path = data_directory / \"em_orbits.h5\"\n",
    "    dataset_path = '/files/PERIODIC ORBITS'\n",
    "    \n",
    "    data = load_orbit_data(str(hdf5_file_path), dataset_path=dataset_path)\n",
    "\n",
    "    # Reshape and transpose data for further processing\n",
    "    reshaped_array = data.reshape(36071, 7, 5, 1500)\n",
    "    orbit_data = reshaped_array.transpose(0, 2, 1, 3).reshape(36071 * 5, 7, 1500)\n",
    "    \n",
    "    # Get Orbit Classes using the refactored function\n",
    "    features = get_orbit_features(data_directory)\n",
    "    # Extract and replicate the 'Orbit Family' labels\n",
    "    labels = features['Orbit Family'].repeat(5).reset_index(drop=True)\n",
    "\n",
    "    return orbit_data, labels"
   ]
  },
  {
   "cell_type": "code",
   "execution_count": null,
   "metadata": {},
   "outputs": [],
   "source": [
    "#| export\n",
    "def get_example_orbit_data():\n",
    "    \"\"\"\n",
    "    Load orbit data from a hardcoded MAT file located in the `data` directory.\n",
    "    \n",
    "    The function is specifically designed to load the 'Xarray' variable \n",
    "    from the '1_L2_S_200_EM_CR3BP.mat' file. This setup is intended for \n",
    "    demonstration or testing purposes, where the data file and the variable \n",
    "    of interest are known ahead of time.\n",
    "\n",
    "    :return: A numpy.ndarray containing the transposed data from the MAT file.\n",
    "    \"\"\"\n",
    "    # Hardcoded file name and variable name\n",
    "    filename = \"1_L2_S_200_EM_CR3BP.mat\"\n",
    "    variable_name = 'Xarray'\n",
    "    \n",
    "    # Assuming the notebook or script is executed in a directory at the same level as the `data` folder\n",
    "    current_dir = Path.cwd().parent\n",
    "    matlab_file_path = current_dir / \"data\" / filename\n",
    "    \n",
    "    # Assuming `load_orbit_data` is a predefined function that loads and returns data from the .mat file\n",
    "    data_mat = load_orbit_data(str(matlab_file_path), variable_name=variable_name)\n",
    "    # Transpose the data for further use\n",
    "    data_mat = np.transpose(data_mat, (2, 1, 0))\n",
    "    \n",
    "    return data_mat\n"
   ]
  },
  {
   "cell_type": "code",
   "execution_count": null,
   "metadata": {},
   "outputs": [
    {
     "data": {
      "text/plain": [
       "(200, 6, 300)"
      ]
     },
     "execution_count": null,
     "metadata": {},
     "output_type": "execute_result"
    }
   ],
   "source": [
    "data = get_example_orbit_data()\n",
    "data.shape"
   ]
  },
  {
   "cell_type": "code",
   "execution_count": null,
   "metadata": {},
   "outputs": [],
   "source": [
    "#| hide\n",
    "import nbdev; nbdev.nbdev_export()"
   ]
  }
 ],
 "metadata": {
  "kernelspec": {
   "display_name": "python3",
   "language": "python",
   "name": "python3"
  }
 },
 "nbformat": 4,
 "nbformat_minor": 4
}
