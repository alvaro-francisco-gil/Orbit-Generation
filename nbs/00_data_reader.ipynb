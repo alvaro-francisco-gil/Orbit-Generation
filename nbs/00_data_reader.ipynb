{
 "cells": [
  {
   "cell_type": "markdown",
   "metadata": {},
   "source": [
    "# reader\n",
    "\n",
    "> Necessary scripts to read orbits from different formats"
   ]
  },
  {
   "cell_type": "code",
   "execution_count": 1,
   "metadata": {},
   "outputs": [],
   "source": [
    "#| default_exp reader"
   ]
  },
  {
   "cell_type": "code",
   "execution_count": 2,
   "metadata": {},
   "outputs": [],
   "source": [
    "#| export\n",
    "import h5py\n",
    "from scipy.io import loadmat\n",
    "import numpy as np"
   ]
  },
  {
   "cell_type": "code",
   "execution_count": null,
   "metadata": {},
   "outputs": [],
   "source": [
    "from unittest.mock import patch, MagicMock"
   ]
  },
  {
   "cell_type": "markdown",
   "metadata": {},
   "source": [
    "## Loading Data"
   ]
  },
  {
   "cell_type": "markdown",
   "metadata": {},
   "source": [
    "This function loads orbit data from .mat or .h5"
   ]
  },
  {
   "cell_type": "code",
   "execution_count": 3,
   "metadata": {},
   "outputs": [],
   "source": [
    "#| export\n",
    "def load_orbit_data(file_path, variable_name=None, dataset_path=None):\n",
    "    \"\"\"\n",
    "    Load orbit data from MATLAB .mat files or HDF5 .h5 files.\n",
    "\n",
    "    Parameters:\n",
    "    - file_path: str, the path to the .mat or .h5 file.\n",
    "    - variable_name: str, optional, the name of the variable in the .mat file.\n",
    "    - dataset_path: str, optional, the path to the dataset in the .h5 file.\n",
    "\n",
    "    Returns:\n",
    "    - data: The loaded orbit data.\n",
    "    \"\"\"\n",
    "    if file_path.endswith('.mat'):\n",
    "        if variable_name is None:\n",
    "            raise ValueError(\"variable_name must be provided for .mat files\")\n",
    "        mat = loadmat(file_path)\n",
    "        if variable_name in mat:\n",
    "            data = mat[variable_name]\n",
    "        else:\n",
    "            raise ValueError(f\"{variable_name} not found in {file_path}\")\n",
    "    \n",
    "    elif file_path.endswith('.h5'):\n",
    "        with h5py.File(file_path, 'r') as file:\n",
    "            if dataset_path:\n",
    "                if dataset_path in file:\n",
    "                    data = np.array(file[dataset_path])\n",
    "                else:\n",
    "                    raise ValueError(f\"{dataset_path} not found in {file_path}\")\n",
    "    \n",
    "    else:\n",
    "        raise ValueError(\"Unsupported file format. Please provide a .mat or .h5 file.\")\n",
    "    \n",
    "    return data"
   ]
  },
  {
   "cell_type": "code",
   "execution_count": 4,
   "metadata": {},
   "outputs": [],
   "source": [
    "#| test \"load_orbit_data with .mat file\"\n",
    "mock_mat_data = {'Xarray': np.array([1, 2, 3])}\n",
    "mock_h5_data = np.array([4, 5, 6])\n",
    "\n",
    "# Test for load_orbit_data with .mat file\n",
    "with patch('__main__.loadmat', return_value=mock_mat_data) as mock_loadmat:\n",
    "    result = load_orbit_data('test_data.mat', variable_name='Xarray')\n",
    "    assert (result == mock_mat_data['Xarray']).all(), \"MAT file loading failed or data mismatch\"\n",
    "    mock_loadmat.assert_called_once_with('test_data.mat')\n",
    "\n",
    "# Test for load_orbit_data with .h5 file\n",
    "with patch('__main__.h5py.File') as mock_h5py:\n",
    "    mock_file = MagicMock()\n",
    "    mock_file.__enter__.return_value = {'/files/PERIODIC ORBITS': mock_h5_data}\n",
    "    mock_h5py.return_value = mock_file\n",
    "    result = load_orbit_data('test_data.h5', dataset_path='/files/PERIODIC ORBITS')\n",
    "    assert (result == mock_h5_data).all(), \"H5 file loading failed or data mismatch\""
   ]
  },
  {
   "cell_type": "markdown",
   "metadata": {},
   "source": [
    "### Functions to return data directly"
   ]
  },
  {
   "cell_type": "code",
   "execution_count": 5,
   "metadata": {},
   "outputs": [],
   "source": [
    "#| export\n",
    "def get_example_h5_data():\n",
    "    hdf5_file_path = r\"C:\\Users\\alvar\\Desktop\\Orbit\\Data\\em_orbits.h5\"\n",
    "    dataset_path = '/files/PERIODIC ORBITS'\n",
    "    data_h5 = load_orbit_data(hdf5_file_path, dataset_path=dataset_path)\n",
    "    no_time_data = data_h5[:, 1:, :]\n",
    "    return no_time_data"
   ]
  },
  {
   "cell_type": "code",
   "execution_count": 6,
   "metadata": {},
   "outputs": [],
   "source": [
    "#| export\n",
    "def get_example_mat_data():\n",
    "    matlab_file_path = r\"C:\\Users\\alvar\\Desktop\\Orbit\\Data\\L2_S_200_EM_CR3BP.mat\"\n",
    "    variable_name = 'Xarray'\n",
    "    data_mat = load_orbit_data(matlab_file_path, variable_name=variable_name)\n",
    "    data_mat= np.transpose(data_mat, (2, 1, 0))\n",
    "    return data_mat"
   ]
  },
  {
   "cell_type": "code",
   "execution_count": 7,
   "metadata": {},
   "outputs": [
    {
     "name": "stdout",
     "output_type": "stream",
     "text": [
      "(36071, 6, 7500)\n"
     ]
    }
   ],
   "source": [
    "data_h5 = get_example_h5_data()\n",
    "print(data_h5.shape)"
   ]
  },
  {
   "cell_type": "markdown",
   "metadata": {},
   "source": [
    "- Number of orbits: 36071\n",
    "- Time instants: 7500"
   ]
  },
  {
   "cell_type": "code",
   "execution_count": 8,
   "metadata": {},
   "outputs": [
    {
     "name": "stdout",
     "output_type": "stream",
     "text": [
      "(200, 6, 300)\n"
     ]
    }
   ],
   "source": [
    "data_mat= get_example_mat_data()\n",
    "print(data_mat.shape)"
   ]
  },
  {
   "cell_type": "markdown",
   "metadata": {},
   "source": [
    "- Number of orbits: 200\n",
    "- Time instants: 300"
   ]
  },
  {
   "cell_type": "code",
   "execution_count": 9,
   "metadata": {},
   "outputs": [],
   "source": [
    "#| hide\n",
    "import nbdev; nbdev.nbdev_export()"
   ]
  }
 ],
 "metadata": {
  "kernelspec": {
   "display_name": "python3",
   "language": "python",
   "name": "python3"
  },
  "language_info": {
   "codemirror_mode": {
    "name": "ipython",
    "version": 3
   },
   "file_extension": ".py",
   "mimetype": "text/x-python",
   "name": "python",
   "nbconvert_exporter": "python",
   "pygments_lexer": "ipython3",
   "version": "3.10.14"
  }
 },
 "nbformat": 4,
 "nbformat_minor": 4
}
