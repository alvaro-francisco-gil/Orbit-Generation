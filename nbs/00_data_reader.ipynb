{
 "cells": [
  {
   "cell_type": "markdown",
   "metadata": {},
   "source": [
    "# data reader\n",
    "\n",
    "> Necessary scripts to read orbits from different formats"
   ]
  },
  {
   "cell_type": "code",
   "execution_count": 1,
   "metadata": {},
   "outputs": [],
   "source": [
    "#| default_exp reader"
   ]
  },
  {
   "cell_type": "code",
   "execution_count": 2,
   "metadata": {},
   "outputs": [],
   "source": [
    "#| export\n",
    "import h5py\n",
    "from scipy.io import loadmat\n",
    "import numpy as np"
   ]
  },
  {
   "cell_type": "markdown",
   "metadata": {},
   "source": [
    "# What is an orbit?"
   ]
  },
  {
   "cell_type": "code",
   "execution_count": 3,
   "metadata": {},
   "outputs": [],
   "source": [
    "#| export\n",
    "def load_orbit_data(file_path, variable_name=None, dataset_path=None):\n",
    "    \"\"\"\n",
    "    Load orbit data from MATLAB .mat files or HDF5 .h5 files.\n",
    "\n",
    "    Parameters:\n",
    "    - file_path: str, the path to the .mat or .h5 file.\n",
    "    - variable_name: str, optional, the name of the variable in the .mat file.\n",
    "    - dataset_path: str, optional, the path to the dataset in the .h5 file.\n",
    "\n",
    "    Returns:\n",
    "    - data: The loaded orbit data.\n",
    "    \"\"\"\n",
    "    if file_path.endswith('.mat'):\n",
    "        if variable_name is None:\n",
    "            raise ValueError(\"variable_name must be provided for .mat files\")\n",
    "        mat = loadmat(file_path)\n",
    "        if variable_name in mat:\n",
    "            data = mat[variable_name]\n",
    "        else:\n",
    "            raise ValueError(f\"{variable_name} not found in {file_path}\")\n",
    "    \n",
    "    elif file_path.endswith('.h5'):\n",
    "        with h5py.File(file_path, 'r') as file:\n",
    "            if dataset_path:\n",
    "                if dataset_path in file:\n",
    "                    data = np.array(file[dataset_path])\n",
    "                else:\n",
    "                    raise ValueError(f\"{dataset_path} not found in {file_path}\")\n",
    "            else:\n",
    "                print(\"Listing all groups and datasets in the file:\")\n",
    "                list_datasets_recursive(file)\n",
    "                raise ValueError(\"dataset_path must be provided to load data from .h5 files\")\n",
    "    \n",
    "    else:\n",
    "        raise ValueError(\"Unsupported file format. Please provide a .mat or .h5 file.\")\n",
    "    \n",
    "    return data"
   ]
  },
  {
   "cell_type": "code",
   "execution_count": 4,
   "metadata": {},
   "outputs": [],
   "source": [
    "#| export\n",
    "def list_datasets_recursive(file, path=\"/\"):\n",
    "    \"\"\"\n",
    "    Recursively lists all datasets in an HDF5 file and their paths.\n",
    "    \"\"\"\n",
    "    for key in file[path].keys():\n",
    "        item_path = f\"{path}{key}\"  # Construct the path for the current item\n",
    "        if isinstance(file[item_path], h5py.Dataset):\n",
    "            print(f\"Dataset: {item_path}\")\n",
    "        elif isinstance(file[item_path], h5py.Group):\n",
    "            print(f\"Group: {item_path}\")\n",
    "            list_datasets_recursive(file, path=item_path+\"/\")"
   ]
  },
  {
   "cell_type": "code",
   "execution_count": 5,
   "metadata": {},
   "outputs": [],
   "source": [
    "#| export\n",
    "def get_example_h5_data():\n",
    "    hdf5_file_path = r\"C:\\Users\\alvar\\Desktop\\Orbit\\Data\\em_orbits.h5\"\n",
    "    dataset_path = '/files/PERIODIC ORBITS'\n",
    "    data_h5 = load_orbit_data(hdf5_file_path, dataset_path=dataset_path)\n",
    "\n",
    "    return data_h5"
   ]
  },
  {
   "cell_type": "code",
   "execution_count": 6,
   "metadata": {
    "scrolled": true
   },
   "outputs": [],
   "source": [
    "#| export\n",
    "def get_example_mat_data():\n",
    "    matlab_file_path = r\"C:\\Users\\alvar\\Desktop\\Orbit\\Data\\L2_S_200_EM_CR3BP.mat\"\n",
    "    variable_name = 'Xarray'\n",
    "    data_mat = load_orbit_data(matlab_file_path, variable_name=variable_name)\n",
    "    return data_mat"
   ]
  },
  {
   "cell_type": "code",
   "execution_count": 7,
   "metadata": {
    "scrolled": true
   },
   "outputs": [],
   "source": [
    "#data_h5 = get_example_h5_data()\n",
    "#print(data_h5[:5])"
   ]
  },
  {
   "cell_type": "code",
   "execution_count": 8,
   "metadata": {
    "scrolled": true
   },
   "outputs": [],
   "source": [
    "#data_mat= get_example_mat_data()\n",
    "#print(data_mat[:5])"
   ]
  },
  {
   "cell_type": "markdown",
   "metadata": {},
   "source": [
    "number of orbits: 300\n",
    "X,Y,Z,Vx,Vy,Vz: 6\n",
    "time instants: 200"
   ]
  },
  {
   "cell_type": "code",
   "execution_count": 10,
   "metadata": {},
   "outputs": [],
   "source": [
    "#| hide\n",
    "import nbdev; nbdev.nbdev_export()"
   ]
  }
 ],
 "metadata": {
  "kernelspec": {
   "display_name": "Python 3 (ipykernel)",
   "language": "python",
   "name": "python3"
  },
  "language_info": {
   "codemirror_mode": {
    "name": "ipython",
    "version": 3
   },
   "file_extension": ".py",
   "mimetype": "text/x-python",
   "name": "python",
   "nbconvert_exporter": "python",
   "pygments_lexer": "ipython3",
   "version": "3.10.14"
  }
 },
 "nbformat": 4,
 "nbformat_minor": 4
}
