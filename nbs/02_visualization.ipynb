{
 "cells": [
  {
   "cell_type": "markdown",
   "metadata": {},
   "source": [
    "# visualization\n",
    "\n",
    "> Necessary scripts to visualize orbits"
   ]
  },
  {
   "cell_type": "code",
   "execution_count": null,
   "metadata": {},
   "outputs": [],
   "source": [
    "#| default_exp visualize"
   ]
  },
  {
   "cell_type": "code",
   "execution_count": null,
   "metadata": {},
   "outputs": [
    {
     "ename": "ModuleNotFoundError",
     "evalue": "No module named 'nbdev'",
     "output_type": "error",
     "traceback": [
      "\u001b[1;31m---------------------------------------------------------------------------\u001b[0m",
      "\u001b[1;31mModuleNotFoundError\u001b[0m                       Traceback (most recent call last)",
      "\u001b[1;32m~\\AppData\\Local\\Temp\\ipykernel_15336\\427410039.py\u001b[0m in \u001b[0;36m<module>\u001b[1;34m\u001b[0m\n\u001b[0;32m      1\u001b[0m \u001b[1;31m#| export\u001b[0m\u001b[1;33m\u001b[0m\u001b[1;33m\u001b[0m\u001b[0m\n\u001b[1;32m----> 2\u001b[1;33m \u001b[1;32mfrom\u001b[0m \u001b[0mnbdev\u001b[0m\u001b[1;33m.\u001b[0m\u001b[0mshowdoc\u001b[0m \u001b[1;32mimport\u001b[0m \u001b[1;33m*\u001b[0m\u001b[1;33m\u001b[0m\u001b[1;33m\u001b[0m\u001b[0m\n\u001b[0m\u001b[0;32m      3\u001b[0m \u001b[1;32mimport\u001b[0m \u001b[0mnumpy\u001b[0m \u001b[1;32mas\u001b[0m \u001b[0mnp\u001b[0m\u001b[1;33m\u001b[0m\u001b[1;33m\u001b[0m\u001b[0m\n\u001b[0;32m      4\u001b[0m \u001b[1;32mimport\u001b[0m \u001b[0mmatplotlib\u001b[0m\u001b[1;33m.\u001b[0m\u001b[0mpyplot\u001b[0m \u001b[1;32mas\u001b[0m \u001b[0mplt\u001b[0m\u001b[1;33m\u001b[0m\u001b[1;33m\u001b[0m\u001b[0m\n\u001b[0;32m      5\u001b[0m \u001b[1;32mfrom\u001b[0m \u001b[0mmpl_toolkits\u001b[0m\u001b[1;33m.\u001b[0m\u001b[0mmplot3d\u001b[0m \u001b[1;32mimport\u001b[0m \u001b[0mAxes3D\u001b[0m\u001b[1;33m\u001b[0m\u001b[1;33m\u001b[0m\u001b[0m\n",
      "\u001b[1;31mModuleNotFoundError\u001b[0m: No module named 'nbdev'"
     ]
    }
   ],
   "source": [
    "#| export\n",
    "from nbdev.showdoc import *\n",
    "import numpy as np\n",
    "import matplotlib.pyplot as plt\n",
    "from mpl_toolkits.mplot3d import Axes3D\n",
    "import plotly.graph_objects as go"
   ]
  },
  {
   "cell_type": "code",
   "execution_count": null,
   "metadata": {},
   "outputs": [],
   "source": [
    "from orbit_generation_testing.reader import get_example_mat_data"
   ]
  },
  {
   "cell_type": "code",
   "execution_count": null,
   "metadata": {},
   "outputs": [],
   "source": [
    "mat_data= get_example_mat_data()\n",
    "mat_data.shape"
   ]
  },
  {
   "cell_type": "markdown",
   "metadata": {},
   "source": [
    "# Static"
   ]
  },
  {
   "cell_type": "code",
   "execution_count": null,
   "metadata": {},
   "outputs": [],
   "source": [
    "#| export\n",
    "def visualize_static_orbits(data, time_instants, orbit_indices=None, show_legend=False):\n",
    "    \"\"\"\n",
    "    Visualizes orbits and highlights specified time instants for every orbit in orbit_indices with data shape (num_orbits, 6, num_time_points).\n",
    "\n",
    "    :param data: numpy.ndarray, shape (num_orbits, 6, num_time_points), containing orbit data.\n",
    "    :param time_instants: list[int], time instants to highlight across selected orbits.\n",
    "    :param orbit_indices: Optional[list], indices of the orbits to visualize and highlight. If None, uses all orbits.\n",
    "    :param show_legend: Optional[bool], indicates whether to show the legend.\n",
    "    \"\"\"\n",
    "    fig = plt.figure(figsize=(10, 8))\n",
    "    ax = fig.add_subplot(111, projection='3d')\n",
    "\n",
    "    if orbit_indices is None:\n",
    "        orbit_indices = range(data.shape[0])\n",
    "\n",
    "    # Validate time instants\n",
    "    max_time_instants = data.shape[2]\n",
    "    for time_instant in time_instants:\n",
    "        if time_instant < 0 or time_instant >= max_time_instants:\n",
    "            raise ValueError(f\"Time instant {time_instant} is out of range.\")\n",
    "\n",
    "    # Plot all requested orbits\n",
    "    for index in orbit_indices:\n",
    "        if index < 0 or index >= data.shape[0]:\n",
    "            print(f\"Orbit index {index} is out of range.\")\n",
    "            continue\n",
    "\n",
    "        X = data[index, 0, :]  # X coordinates\n",
    "        Y = data[index, 1, :]  # Y coordinates\n",
    "        Z = data[index, 2, :]  # Z coordinates\n",
    "        ax.plot(X, Y, Z, label=f'Orbit {index}', alpha=0.5)  # Reduced alpha to emphasize highlights\n",
    "\n",
    "        # Highlight the specified time instants for each orbit\n",
    "        for time_instant in time_instants:\n",
    "            # Adjust indexing for the new data shape\n",
    "            posx, posy, posz = data[index, 0:3, time_instant]\n",
    "            ax.scatter(posx, posy, posz, color='red', s=100, zorder=5)\n",
    "\n",
    "    ax.set_xlabel('X')\n",
    "    ax.set_ylabel('Y')\n",
    "    ax.set_zlabel('Z')\n",
    "    plt.title('3D Orbits Static Visualization')\n",
    "\n",
    "    if show_legend:\n",
    "        ax.legend()\n",
    "\n",
    "    plt.show()\n"
   ]
  },
  {
   "cell_type": "code",
   "execution_count": null,
   "metadata": {},
   "outputs": [],
   "source": [
    "visualize_static_orbits(data= mat_data,time_instants=[0], orbit_indices=[0,20,40])"
   ]
  },
  {
   "cell_type": "code",
   "execution_count": null,
   "metadata": {},
   "outputs": [],
   "source": [
    "#| test \"invalid time_instants raises ValueError\"\n",
    "from pytest import raises\n",
    "time_instants = [-1, 11]  # Out of bounds\n",
    "with raises(ValueError):\n",
    "    visualize_static_orbits(mat_data, time_instants)"
   ]
  },
  {
   "cell_type": "code",
   "execution_count": null,
   "metadata": {},
   "outputs": [],
   "source": [
    "#| test \"invalid orbit_indices prints warning\"\n",
    "from unittest.mock import patch\n",
    "time_instants = [0, 9]  # Valid\n",
    "orbit_indices = [201]  # Out of bounds\n",
    "with patch(\"builtins.print\") as mock_print:\n",
    "    visualize_static_orbits(mat_data, time_instants, orbit_indices)\n",
    "    mock_print.assert_called()"
   ]
  },
  {
   "cell_type": "markdown",
   "metadata": {},
   "source": [
    "# Dynamic"
   ]
  },
  {
   "cell_type": "code",
   "execution_count": null,
   "metadata": {},
   "outputs": [],
   "source": [
    "#| export\n",
    "def export_dynamic_orbits_html(data, timestamps, orbit_indices=None, filename='orbits.html', point_dict=None):\n",
    "    \"\"\"\n",
    "    Visualize orbits in 3D and save as an interactive HTML file with a clickable legend, for data organized as (num_orbits, 6, num_time_points).\n",
    "    Includes the option to add named points to the visualization and highlights the positions of each orbit at given timestamps.\n",
    "\n",
    "    :param data: Numpy array of shape (num_orbits, 6, num_time_points)\n",
    "    :param timestamps: List of int, the time instants to highlight across all orbits.\n",
    "    :param orbit_indices: Optional; List of indices of the orbits to visualize\n",
    "    :param filename: String, name of the file to save the HTML plot\n",
    "    :param point_dict: Optional; Dictionary where keys are point names and values are the 3D coordinates of the points\n",
    "    \"\"\"\n",
    "    num_orbits = data.shape[0]  # Adjusted for the new data shape\n",
    "    if orbit_indices is None:\n",
    "        orbit_indices = range(num_orbits)  # Default to all orbits\n",
    "\n",
    "    fig = go.Figure()\n",
    "\n",
    "    # Validate the provided timestamps\n",
    "    for timestamp in timestamps:\n",
    "        if timestamp < 0 or timestamp >= data.shape[2]:\n",
    "            raise ValueError(f\"The provided timestamp {timestamp} is out of range.\")\n",
    "\n",
    "    # Plot each orbit\n",
    "    for index in orbit_indices:\n",
    "        if index < 0 or index >= num_orbits:\n",
    "            print(f\"Orbit index {index} is out of range.\")\n",
    "            continue\n",
    "\n",
    "        # Adjusted indexing for the new data shape\n",
    "        X = data[index, 0, :]  # X coordinates\n",
    "        Y = data[index, 1, :]  # Y coordinates\n",
    "        Z = data[index, 2, :]  # Z coordinates\n",
    "\n",
    "        fig.add_trace(go.Scatter3d(x=X, y=Y, z=Z, mode='lines',\n",
    "                                   name=f'Orbit {index}',\n",
    "                                   legendgroup=f'orbit{index}',\n",
    "                                   showlegend=True))\n",
    "\n",
    "        # Highlight the positions at the given timestamps\n",
    "        for timestamp in timestamps:\n",
    "            highlight_x = [data[index, 0, timestamp]]\n",
    "            highlight_y = [data[index, 1, timestamp]]\n",
    "            highlight_z = [data[index, 2, timestamp]]\n",
    "            fig.add_trace(go.Scatter3d(x=highlight_x, y=highlight_y, z=highlight_z, mode='markers',\n",
    "                                       marker=dict(size=5, color='red'),\n",
    "                                       name=f'Highlight {index} @ {timestamp}',\n",
    "                                       legendgroup=f'orbit{index}',\n",
    "                                       showlegend=False))\n",
    "\n",
    "    # Add points from the point_dict if provided\n",
    "    if point_dict is not None:\n",
    "        for point_name, coords in point_dict.items():\n",
    "            fig.add_trace(go.Scatter3d(x=[coords[0]], y=[coords[1]], z=[coords[2]], mode='markers',\n",
    "                                       marker=dict(size=5),\n",
    "                                       name=point_name))\n",
    "\n",
    "    fig.update_layout(title='3D Orbits Visualization',\n",
    "                      scene=dict(xaxis_title='X',\n",
    "                                 yaxis_title='Y',\n",
    "                                 zaxis_title='Z'),\n",
    "                      width=800, height=600,\n",
    "                      legend_title=\"Orbits Legend\",\n",
    "                      clickmode='event+select')\n",
    "\n",
    "    fig.write_html(filename)\n",
    "    print(f\"Visualization saved to {filename}\")\n",
    "\n"
   ]
  },
  {
   "cell_type": "code",
   "execution_count": null,
   "metadata": {},
   "outputs": [],
   "source": [
    "mu = 0.0122\n",
    "points_to_add={\n",
    "    'Moon': (1-mu,0,0),\n",
    "    'Earth': (-mu,0,0),\n",
    "    'Lagrange 1': (0.8369,0,0),\n",
    "    'Lagrange 2': (1.1557,0,0)\n",
    "}"
   ]
  },
  {
   "cell_type": "code",
   "execution_count": null,
   "metadata": {},
   "outputs": [],
   "source": [
    "export_dynamic_orbits_html(data=mat_data, point_dict= points_to_add, timestamps=[0], orbit_indices=[1])"
   ]
  },
  {
   "cell_type": "code",
   "execution_count": null,
   "metadata": {},
   "outputs": [],
   "source": [
    "#| hide\n",
    "import nbdev; nbdev.nbdev_export()"
   ]
  }
 ],
 "metadata": {
  "kernelspec": {
   "display_name": "python3",
   "language": "python",
   "name": "python3"
  }
 },
 "nbformat": 4,
 "nbformat_minor": 4
}
