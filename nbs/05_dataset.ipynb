{
 "cells": [
  {
   "cell_type": "markdown",
   "metadata": {},
   "source": [
    "# Dataset\n",
    "\n",
    "> Scripts to build the different datasets used for modeling"
   ]
  },
  {
   "cell_type": "code",
   "execution_count": 2,
   "metadata": {},
   "outputs": [],
   "source": [
    "#| default_exp dataset"
   ]
  },
  {
   "cell_type": "code",
   "execution_count": 3,
   "metadata": {},
   "outputs": [],
   "source": [
    "#| export\n",
    "#| hide\n",
    "import os\n",
    "import h5py\n",
    "import numpy as np\n",
    "import pandas as pd\n",
    "from typing import Tuple, Optional, List\n",
    "from orbit_generation.data import load_orbit_data, get_orbit_features, save_data"
   ]
  },
  {
   "cell_type": "markdown",
   "metadata": {},
   "source": [
    "to do:include typing, inline"
   ]
  },
  {
   "cell_type": "markdown",
   "metadata": {},
   "source": [
    "## Exact Periods with Time"
   ]
  },
  {
   "cell_type": "markdown",
   "metadata": {},
   "source": [
    "### All 5 periods"
   ]
  },
  {
   "cell_type": "code",
   "execution_count": 9,
   "metadata": {},
   "outputs": [],
   "source": [
    "#| export\n",
    "def get_5p_em_dataset(data_directory: Optional[str] = '../data', \n",
    "                      output_file_path: Optional[str] = '../data/5p_em_dataset', \n",
    "                      file_type: str = 'npy') -> Tuple[np.ndarray, List]:\n",
    "    \"\"\"\n",
    "    Load orbit data and corresponding labels. Optionally, save the loaded data.\n",
    "    \"\"\"\n",
    "    # Paths to data files\n",
    "    orbits_file_path = os.path.join(data_directory, \"em_orbits.h5\")\n",
    "    features_file_path = os.path.join(data_directory, \"em_features.mat\")\n",
    "\n",
    "    # Load orbit labels\n",
    "    labels_df = get_orbit_features(features_file_path, variable_name='out_EM') \n",
    "    labels = pd.Series(labels_df['Orbit Family']).repeat(5).reset_index(drop=True).to_list()\n",
    "\n",
    "    # Load orbit data\n",
    "    orbit_data = load_orbit_data(orbits_file_path, dataset_path='/files/PERIODIC ORBITS')\n",
    "    reshaped_array = orbit_data.reshape(36071, 7, 5, 1500)\n",
    "    orbit_data_final = reshaped_array.transpose(0, 2, 1, 3).reshape(36071 * 5, 7, 1500)\n",
    "\n",
    "    # Optionally save the data if an output file path is provided\n",
    "    if output_file_path:\n",
    "        save_data(orbit_data_final, output_file_path, file_type)\n",
    "\n",
    "    return orbit_data_final, labels"
   ]
  },
  {
   "cell_type": "code",
   "execution_count": 10,
   "metadata": {},
   "outputs": [],
   "source": [
    "orbit_data_final, labels = get_5p_em_dataset()"
   ]
  },
  {
   "cell_type": "code",
   "execution_count": 11,
   "metadata": {},
   "outputs": [
    {
     "data": {
      "text/plain": [
       "(180355, 7, 1500)"
      ]
     },
     "execution_count": 11,
     "metadata": {},
     "output_type": "execute_result"
    }
   ],
   "source": [
    "orbit_data_final.shape"
   ]
  },
  {
   "cell_type": "markdown",
   "metadata": {},
   "source": [
    "## 1st period"
   ]
  },
  {
   "cell_type": "code",
   "execution_count": null,
   "metadata": {},
   "outputs": [],
   "source": [
    "#| export\n",
    "def get_1p_em_dataset(data_directory: Optional[str] = '../data',\n",
    "                      output_file_path: Optional[str] = '../data/1p_em_dataset',\n",
    "                      file_type: str = 'npy') -> Tuple[np.ndarray, List]:\n",
    "    \"\"\"\n",
    "    Load orbit data from an HDF5 file and corresponding labels from a MAT file.\n",
    "    \"\"\"\n",
    "    # Paths to data files\n",
    "    orbits_file_path = os.path.join(data_directory, \"em_orbits.h5\")\n",
    "    features_file_path = os.path.join(data_directory, \"em_features.mat\")\n",
    "\n",
    "    # Load orbit labels\n",
    "    labels_df = get_orbit_features(features_file_path, variable_name='out_EM') \n",
    "    labels = labels_df['Orbit Family'].tolist()\n",
    "\n",
    "    # Load orbit data\n",
    "    orbit_data = load_orbit_data(orbits_file_path, dataset_path='/files/PERIODIC ORBITS')\n",
    "    reshaped_orbit_data = orbit_data[:, :, :1500]\n",
    "\n",
    "    # Optionally save the data if an output file path is provided\n",
    "    if output_file_path:\n",
    "        save_data(reshaped_orbit_data, output_file_path, file_type)\n",
    "\n",
    "    return reshaped_orbit_data, labels"
   ]
  },
  {
   "cell_type": "markdown",
   "metadata": {},
   "source": [
    "## Fixed time step"
   ]
  },
  {
   "cell_type": "code",
   "execution_count": 32,
   "metadata": {},
   "outputs": [],
   "source": [
    "#| export\n",
    "def get_1p_fixed_em_dataset(data_directory=None):\n",
    "    \"\"\"\n",
    "    Load orbit data from an HDF5 file.\n",
    "\n",
    "    If no data_directory is specified, a default relative path is used. The function expects \n",
    "    the file structure within the directory to be specific, containing the HDF5 file \n",
    "    'em_orbits_dt_0_01.h5'.\n",
    "\n",
    "    Returns:\n",
    "        dict: \n",
    "            - orbit_data (dict): A dictionary where each key is a dataset name and the value is the corresponding numpy array.\n",
    "\n",
    "    The function reads each dataset within the HDF5 file and stores them into a dictionary.\n",
    "    \"\"\"\n",
    "\n",
    "    # Define the default data directory based on the script's location if not provided\n",
    "    if data_directory is None:\n",
    "        data_directory = os.path.join(os.path.dirname(__file__), \"Data\")\n",
    "    \n",
    "    # Define the file path for the orbit data\n",
    "    file_path = os.path.join(data_directory, \"em_orbits_dt_0_01.h5\")\n",
    "    \n",
    "    # Initialize a dictionary to hold data from all datasets\n",
    "    orbit_data = {}\n",
    "    \n",
    "    # Open the HDF5 file and read data from each dataset\n",
    "    with h5py.File(file_path, 'r') as file:\n",
    "        # Iterate through each dataset in the HDF5 file\n",
    "        for name in file:\n",
    "            dataset = np.array(file[name])\n",
    "            if name.isdigit():\n",
    "                orbit_data[int(name)] = dataset\n",
    "            else:\n",
    "                orbit_data[name] = dataset\n",
    "\n",
    "    return orbit_data"
   ]
  },
  {
   "cell_type": "code",
   "execution_count": 33,
   "metadata": {},
   "outputs": [],
   "source": [
    "orbit_data = get_1p_fixed_em_dataset(data_directory='../data')"
   ]
  },
  {
   "cell_type": "code",
   "execution_count": 18,
   "metadata": {},
   "outputs": [
    {
     "data": {
      "text/plain": [
       "36073"
      ]
     },
     "execution_count": 18,
     "metadata": {},
     "output_type": "execute_result"
    }
   ],
   "source": [
    "len(orbit_data.keys())"
   ]
  },
  {
   "cell_type": "code",
   "execution_count": 34,
   "metadata": {},
   "outputs": [
    {
     "data": {
      "text/plain": [
       "3465"
      ]
     },
     "execution_count": 34,
     "metadata": {},
     "output_type": "execute_result"
    }
   ],
   "source": [
    "len(orbit_data[1][0])"
   ]
  },
  {
   "cell_type": "code",
   "execution_count": null,
   "metadata": {},
   "outputs": [],
   "source": [
    "import matplotlib.pyplot as plt\n",
    "\n",
    "def plot_orbit_data_lengths(orbit_data, key_range=(1, 36072), dimension=0, bins=30, color='blue', plot=True, title='Histogram of Orbits Time Steps'):\n",
    "    lengths = []\n",
    "    \n",
    "    # Iterate over each dataset name within the provided range\n",
    "    start, end = key_range  # Unpack the tuple for range\n",
    "    for key in range(start, end):\n",
    "        if key in orbit_data:\n",
    "            try:\n",
    "                # Append the length of the specified dimension of the dataset\n",
    "                lengths.append(len(orbit_data[key][dimension]))\n",
    "            except IndexError:\n",
    "                # Handle the case where the dimension is not available\n",
    "                print(f\"Warning: Dimension {dimension} is not available in dataset {key}.\")\n",
    "                continue\n",
    "    \n",
    "    if plot:\n",
    "        # Plot the histogram of these lengths if plot is True\n",
    "        plt.figure(figsize=(10, 6))\n",
    "        plt.hist(lengths, bins=bins, color=color, edgecolor='black')\n",
    "        plt.title(title)\n",
    "        plt.xlabel('Time Steps')\n",
    "        plt.ylabel('Frequency')\n",
    "        plt.show()\n",
    "    else:\n",
    "        # Return lengths data for further analysis\n",
    "        return lengths\n",
    "\n",
    "# Example usage:\n",
    "orbit_data = {i: [[0]*i] for i in range(1, 100)}  # Example data for testing\n",
    "plot_orbit_data_lengths(orbit_data, key_range=(1, 100), bins=10, color='green', title='Test Histogram')"
   ]
  },
  {
   "cell_type": "code",
   "execution_count": 38,
   "metadata": {},
   "outputs": [
    {
     "data": {
      "image/png": "[encoded data removed]",
      "text/plain": [
       "<Figure size 1000x600 with 1 Axes>"
      ]
     },
     "metadata": {},
     "output_type": "display_data"
    }
   ],
   "source": [
    "import matplotlib.pyplot as plt\n",
    "\n",
    "# Assuming orbit_data is already loaded as described previously\n",
    "def plot_orbit_data_lengths(orbit_data):\n",
    "    lengths = []\n",
    "    \n",
    "    # Iterate over each dataset name from '1' to '36071'\n",
    "    for key in range(1, 36072):  # range(1, 36072) because the upper limit is exclusive\n",
    "        if key in orbit_data:\n",
    "            lengths.append(len(orbit_data[key][0]))  # Append the length of the first dimension of the dataset\n",
    "    \n",
    "    # Plot the histogram of these lengths\n",
    "    plt.figure(figsize=(10, 6))\n",
    "    plt.hist(lengths, bins=30, color='blue', edgecolor='black')\n",
    "    plt.title('Histogram of Orbits Time Steps')\n",
    "    plt.xlabel('Time Steps')\n",
    "    plt.ylabel('Frequency')\n",
    "    plt.show()\n",
    "\n",
    "plot_orbit_data_lengths(orbit_data)"
   ]
  },
  {
   "cell_type": "code",
   "execution_count": 46,
   "metadata": {},
   "outputs": [],
   "source": [
    "periods = orbit_data['prop_periods'][0]"
   ]
  },
  {
   "cell_type": "code",
   "execution_count": 47,
   "metadata": {},
   "outputs": [
    {
     "data": {
      "text/plain": [
       "3"
      ]
     },
     "execution_count": 47,
     "metadata": {},
     "output_type": "execute_result"
    }
   ],
   "source": [
    "periods[0]"
   ]
  },
  {
   "cell_type": "code",
   "execution_count": 48,
   "metadata": {},
   "outputs": [
    {
     "data": {
      "image/png": "[encoded data removed]",
      "text/plain": [
       "<Figure size 1000x600 with 1 Axes>"
      ]
     },
     "metadata": {},
     "output_type": "display_data"
    }
   ],
   "source": [
    "import matplotlib.pyplot as plt\n",
    "\n",
    "def plot_histogram(periods):\n",
    "    \"\"\"\n",
    "    Plot a histogram of the array 'periods'.\n",
    "    \n",
    "    Parameters:\n",
    "        periods (list or np.ndarray): An array of integers whose distribution is to be plotted.\n",
    "    \"\"\"\n",
    "    plt.figure(figsize=(10, 6))  # Set the figure size for the histogram\n",
    "    plt.hist(periods, bins=30, color='blue', edgecolor='black')  # Plot the histogram\n",
    "    plt.title('Histogram of Periods')  # Add a title to the histogram\n",
    "    plt.xlabel('Period Values')  # Label the x-axis\n",
    "    plt.ylabel('Frequency')  # Label the y-axis\n",
    "    plt.grid(True)  # Optionally add a grid for better readability\n",
    "    plt.show()  # Display the histogram\n",
    "\n",
    "plot_histogram(periods)\n"
   ]
  },
  {
   "cell_type": "code",
   "execution_count": 26,
   "metadata": {},
   "outputs": [
    {
     "data": {
      "text/plain": [
       "array([[3, 3, 3, ..., 5, 5, 5]], dtype=int8)"
      ]
     },
     "execution_count": 26,
     "metadata": {},
     "output_type": "execute_result"
    }
   ],
   "source": [
    "orbit_data['prop_periods']"
   ]
  },
  {
   "cell_type": "code",
   "execution_count": 25,
   "metadata": {},
   "outputs": [
    {
     "data": {
      "text/plain": [
       "array(0.01215059)"
      ]
     },
     "execution_count": 25,
     "metadata": {},
     "output_type": "execute_result"
    }
   ],
   "source": [
    "orbit_data['mu']"
   ]
  },
  {
   "cell_type": "code",
   "execution_count": null,
   "metadata": {},
   "outputs": [],
   "source": [
    "#| hide\n",
    "import nbdev; nbdev.nbdev_export()"
   ]
  }
 ],
 "metadata": {
  "kernelspec": {
   "display_name": "python3",
   "language": "python",
   "name": "python3"
  },
  "language_info": {
   "codemirror_mode": {
    "name": "ipython",
    "version": 3
   },
   "file_extension": ".py",
   "mimetype": "text/x-python",
   "name": "python",
   "nbconvert_exporter": "python",
   "pygments_lexer": "ipython3",
   "version": "3.8.19"
  }
 },
 "nbformat": 4,
 "nbformat_minor": 2
}
