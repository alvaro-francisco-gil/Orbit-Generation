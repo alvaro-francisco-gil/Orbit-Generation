{
 "cells": [
  {
   "cell_type": "markdown",
   "metadata": {},
   "source": [
    "# Dataset\n",
    "\n",
    "> Scripts to build the different datasets used for modeling"
   ]
  },
  {
   "cell_type": "code",
   "execution_count": 2,
   "metadata": {},
   "outputs": [],
   "source": [
    "#| default_exp dataset"
   ]
  },
  {
   "cell_type": "code",
   "execution_count": 3,
   "metadata": {},
   "outputs": [],
   "source": [
    "#| export\n",
    "#| hide\n",
    "import os\n",
    "import h5py\n",
    "import numpy as np\n",
    "import pandas as pd\n",
    "from typing import Tuple, List, Dict\n",
    "\n",
    "from orbit_generation.processing import pad_and_convert_to_3d, segment_and_convert_to_3d, add_time_vector_to_orbits"
   ]
  },
  {
   "cell_type": "markdown",
   "metadata": {},
   "source": [
    "## Read Data"
   ]
  },
  {
   "cell_type": "code",
   "execution_count": 4,
   "metadata": {},
   "outputs": [],
   "source": [
    "#| export\n",
    "def get_orbit_data_from_hdf5(file_path: str                   # Path to the HDF5 file.\n",
    "                            ) -> Tuple[Dict[int, np.ndarray], # Dictionary of orbits with numerical keys.\n",
    "                                    pd.DataFrame,             # DataFrame containing orbit features.\n",
    "                                    Dict[str, float]]:        # Dictionary containing system features.\n",
    "    \"\"\"\n",
    "    Load orbit data from an HDF5 file.\n",
    "    \"\"\"\n",
    "    with h5py.File(file_path, 'r') as file:\n",
    "        # Extract not_propagated_orbits and store in a list of integers\n",
    "        not_propagated_orbits = [index - 1 for index in file['not_propagated_orbits'][0].tolist()]\n",
    "        \n",
    "        # Extract system features and labels\n",
    "        system_features = file['system_features'][:]\n",
    "        system_labels = file['system_labels'][:].astype(str)\n",
    "        \n",
    "        # Create a dictionary for system\n",
    "        system_dict = {label: feature[0] for label, feature in zip(system_labels.flatten().tolist(), system_features)}\n",
    "        \n",
    "        # Extract orbit features and labels\n",
    "        orbit_features = file['orbit_features'][:]\n",
    "        orbit_labels = file['orbit_labels'][:].astype(str)\n",
    "        \n",
    "        # Create a dataframe for orbits\n",
    "        orbit_df = pd.DataFrame(orbit_features.T, columns=orbit_labels.flatten().tolist())\n",
    "        \n",
    "        # Remove rows in orbit_df based on not_propagated_orbits\n",
    "        orbit_df = orbit_df.drop(not_propagated_orbits).reset_index(drop=True)\n",
    "        \n",
    "        # Extract numpy arrays with numerical keys\n",
    "        orbits = {int(key): file[key][:] for key in file.keys() if key.isdigit()}\n",
    "        \n",
    "        # Reset the index of the dictionary to start on 0\n",
    "        orbits = {i: orbits[key] for i, key in enumerate(sorted(orbits.keys()))}\n",
    "                \n",
    "    return orbits, orbit_df, system_dict"
   ]
  },
  {
   "cell_type": "code",
   "execution_count": 5,
   "metadata": {},
   "outputs": [],
   "source": [
    "#| export\n",
    "def get_orbit_features_from_hdf5(file_path: str          # Path to the HDF5 file.\n",
    "                                ) -> pd.DataFrame:       # DataFrame containing orbit features.\n",
    "    \"\"\"\n",
    "    Load orbit DataFrame from an HDF5 file.\n",
    "    \"\"\"\n",
    "    with h5py.File(file_path, 'r') as file:\n",
    "        # Extract not_propagated_orbits and store in a list of integers\n",
    "        not_propagated_orbits = [index - 1 for index in file['not_propagated_orbits'][0].tolist()]\n",
    "        \n",
    "        # Extract orbit features and labels\n",
    "        orbit_features = file['orbit_features'][:]\n",
    "        orbit_labels = file['orbit_labels'][:].astype(str)\n",
    "        \n",
    "        # Create a dataframe for orbits\n",
    "        orbit_df = pd.DataFrame(orbit_features.T, columns=orbit_labels.flatten().tolist())\n",
    "        \n",
    "        # Remove rows in orbit_df based on not_propagated_orbits\n",
    "        orbit_df = orbit_df.drop(not_propagated_orbits).reset_index(drop=True)\n",
    "                \n",
    "    return orbit_df"
   ]
  },
  {
   "cell_type": "markdown",
   "metadata": {},
   "source": [
    "## Datasets fixed Period"
   ]
  },
  {
   "cell_type": "code",
   "execution_count": 6,
   "metadata": {},
   "outputs": [],
   "source": [
    "#| export\n",
    "def get_first_period_dataset(file_path: str                  # Path to the HDF5 file.\n",
    "                            ) -> Tuple[np.ndarray,          # 3D numpy array of padded orbits.\n",
    "                                       pd.DataFrame,        # DataFrame containing orbit features.\n",
    "                                       Dict[str, float]]:   # Dictionary containing system features.\n",
    "    \"\"\"\n",
    "    Load and process orbit data from an HDF5 file for the first period.\n",
    "    \"\"\"\n",
    "    # Load the orbit data, features dataframe, and system dictionary from the HDF5 file\n",
    "    orbits, orbit_df, system_dict = get_orbit_data_from_hdf5(file_path)\n",
    "\n",
    "    # Extract propagated periods and periods from the DataFrame\n",
    "    propagated_periods = orbit_df['propagated_periods'].tolist()\n",
    "    periods = orbit_df['period'].tolist()\n",
    "\n",
    "    # Remove the file type and extract parts of the file name to determine processing steps\n",
    "    file_name = os.path.basename(file_path).split('.')[0]\n",
    "    file_parts = file_name.split('_')\n",
    "\n",
    "    # Check if the second part of the file name is 'N'\n",
    "    if file_parts[1] == 'N':\n",
    "        # Add time vectors to the orbits\n",
    "        orbits = add_time_vector_to_orbits(orbits, propagated_periods, periods)\n",
    "        # Pad and convert the orbits to a 3D array using the fourth part of the file name as timesteps\n",
    "        orbits = pad_and_convert_to_3d(orbits, int(file_parts[3]))\n",
    "\n",
    "    return orbits, orbit_df, system_dict\n"
   ]
  },
  {
   "cell_type": "markdown",
   "metadata": {},
   "source": [
    "## Dataset fixed Step"
   ]
  },
  {
   "cell_type": "code",
   "execution_count": 7,
   "metadata": {},
   "outputs": [],
   "source": [
    "#| export\n",
    "def get_segmented_dataset(file_path: str,                     # Path to the HDF5 file.\n",
    "                          segment_length: int                 # Desired length of each segment.\n",
    "                         ) -> Tuple[np.ndarray,               # 3D numpy array of segmented orbits.\n",
    "                                    pd.DataFrame,             # DataFrame containing orbit features.\n",
    "                                    List[int],                # List of IDs representing each new segment.\n",
    "                                    Dict[str, float]]:        # Dictionary containing system features.\n",
    "    \"\"\"\n",
    "    Load and process orbit data from an HDF5 file, segmenting each orbit into specified length.\n",
    "    \"\"\"\n",
    "    # Load the orbit data, features dataframe, and system dictionary from the HDF5 file\n",
    "    orbits, orbit_df, system_dict = get_orbit_data_from_hdf5(file_path)\n",
    "\n",
    "    # Check if the second part of the file name is 'dt'\n",
    "    if os.path.basename(file_path).split('_')[1] == 'dt':\n",
    "        # Segment the orbits and get the corresponding segment IDs\n",
    "        orbits, orbits_ids = segment_and_convert_to_3d(orbits, segment_length)\n",
    "\n",
    "    return orbits, orbit_df, orbits_ids, system_dict\n"
   ]
  },
  {
   "cell_type": "code",
   "execution_count": 8,
   "metadata": {},
   "outputs": [],
   "source": [
    "#| hide\n",
    "import nbdev; nbdev.nbdev_export()"
   ]
  }
 ],
 "metadata": {
  "kernelspec": {
   "display_name": "Python (tensorflow-gpu)",
   "language": "python",
   "name": "tensorflow-gpu"
  },
  "language_info": {
   "codemirror_mode": {
    "name": "ipython",
    "version": 3
   },
   "file_extension": ".py",
   "mimetype": "text/x-python",
   "name": "python",
   "nbconvert_exporter": "python",
   "pygments_lexer": "ipython3",
   "version": "3.8.10"
  }
 },
 "nbformat": 4,
 "nbformat_minor": 2
}
