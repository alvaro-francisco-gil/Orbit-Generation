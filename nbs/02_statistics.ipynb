{
 "cells": [
  {
   "cell_type": "markdown",
   "metadata": {},
   "source": [
    "# statistics\n",
    "\n",
    "> Necessary scripts to read orbits from different formats"
   ]
  },
  {
   "cell_type": "code",
   "execution_count": 1,
   "metadata": {},
   "outputs": [],
   "source": [
    "#| default_exp stats"
   ]
  },
  {
   "cell_type": "code",
   "execution_count": 2,
   "metadata": {},
   "outputs": [],
   "source": [
    "#| export\n",
    "import numpy as np"
   ]
  },
  {
   "cell_type": "markdown",
   "metadata": {},
   "source": [
    "# What is an orbit?"
   ]
  },
  {
   "cell_type": "code",
   "execution_count": 3,
   "metadata": {},
   "outputs": [],
   "source": [
    "#| export\n",
    "def select_and_remove(data, select_n):\n",
    "    \"\"\"\n",
    "    Select elements from the first dimension of the data and remove the first index\n",
    "    from the second dimension.\n",
    "    \n",
    "    Parameters:\n",
    "    - data: A 3D NumPy array.\n",
    "    - select_n: An integer specifying the number of random elements to select from\n",
    "                the first dimension, or a list of specific indices to select.\n",
    "    \n",
    "    Returns:\n",
    "    - A new array with the selected elements and without the first index in the\n",
    "      second dimension.\n",
    "    \"\"\"\n",
    "    \n",
    "    # Check if select_n is an integer (for random selection)\n",
    "    if isinstance(select_n, int):\n",
    "        indices = np.random.choice(data.shape[0], select_n, replace=False)\n",
    "    elif isinstance(select_n, list):\n",
    "        indices = np.array(select_n)\n",
    "    else:\n",
    "        raise ValueError(\"select_n must be an integer or a list of integers\")\n",
    "    \n",
    "    # Selecting the data based on indices\n",
    "    selected_data = data[indices]\n",
    "    \n",
    "    # Removing the time dimension\n",
    "    reshaped_data = np.delete(selected_data, 0, axis=1)\n",
    "    \n",
    "    return reshaped_data"
   ]
  },
  {
   "cell_type": "code",
   "execution_count": 4,
   "metadata": {},
   "outputs": [],
   "source": [
    "#| export\n",
    "def calculate_statistics_by_orbit(orbits):\n",
    "    \"\"\"\n",
    "    Calculate the min, mean, max, 25%, 50%, and 75% statistics for each scalar \n",
    "    (posx, posy, posz, velx, vely, velz) across all time instants for each orbit.\n",
    "\n",
    "    Parameters:\n",
    "    - orbits: numpy array of shape [number_of_orbits, 6, number_of_time_instants]\n",
    "\n",
    "    Returns:\n",
    "    - stats: A dictionary where keys are orbit indices and values are dictionaries\n",
    "      with stats ('min', 'mean', 'max', '25%', '50%', '75%') for each scalar.\n",
    "    \"\"\"\n",
    "    stats = {}\n",
    "    for orbit_index in range(orbits.shape[0]):\n",
    "        orbit_stats = {}\n",
    "        for scalar_index, scalar_name in enumerate(['posx', 'posy', 'posz', 'velx', 'vely', 'velz']):\n",
    "            scalar_data = orbits[orbit_index, scalar_index, :]\n",
    "            orbit_stats[scalar_name] = {\n",
    "                'min': np.min(scalar_data),\n",
    "                'mean': np.mean(scalar_data),\n",
    "                'max': np.max(scalar_data),\n",
    "                '25%': np.percentile(scalar_data, 25),\n",
    "                '50%': np.median(scalar_data), \n",
    "                '75%': np.percentile(scalar_data, 75)\n",
    "            }\n",
    "        stats[orbit_index] = orbit_stats\n",
    "    \n",
    "    return stats"
   ]
  },
  {
   "cell_type": "code",
   "execution_count": 5,
   "metadata": {},
   "outputs": [],
   "source": [
    "#| export\n",
    "def calculate_overall_statistics(orbits):\n",
    "    \"\"\"\n",
    "    Calculate the overall min, mean, max, 25%, 50%, and 75% statistics for each scalar \n",
    "    (posx, posy, posz, velx, vely, velz) across all time instants and orbits.\n",
    "\n",
    "    Parameters:\n",
    "    - orbits: numpy array of shape [number_of_orbits, 6, number_of_time_instants]\n",
    "\n",
    "    Returns:\n",
    "    - stats: A dictionary with stats ('min', 'mean', 'max', '25%', '50%', '75%') for each scalar.\n",
    "    \"\"\"\n",
    "    stats = {}\n",
    "    for scalar_index, scalar_name in enumerate(['posx', 'posy', 'posz', 'velx', 'vely', 'velz']):\n",
    "        scalar_data = orbits[:, scalar_index, :].flatten()  # Flatten to treat all orbits' data as a single array\n",
    "        stats[scalar_name] = {\n",
    "            'min': np.min(scalar_data),\n",
    "            'mean': np.mean(scalar_data),\n",
    "            'max': np.max(scalar_data),\n",
    "            '25%': np.percentile(scalar_data, 25),\n",
    "            '50%': np.median(scalar_data),  # Median is equivalent to the 50th percentile\n",
    "            '75%': np.percentile(scalar_data, 75)\n",
    "        }\n",
    "    \n",
    "    return stats"
   ]
  },
  {
   "cell_type": "code",
   "execution_count": null,
   "metadata": {},
   "outputs": [],
   "source": []
  },
  {
   "cell_type": "code",
   "execution_count": null,
   "metadata": {},
   "outputs": [],
   "source": []
  },
  {
   "cell_type": "code",
   "execution_count": 6,
   "metadata": {},
   "outputs": [],
   "source": [
    "#| export\n",
    "def foo(): pass"
   ]
  },
  {
   "cell_type": "code",
   "execution_count": 7,
   "metadata": {},
   "outputs": [],
   "source": [
    "#| hide\n",
    "import nbdev; nbdev.nbdev_export()"
   ]
  }
 ],
 "metadata": {
  "kernelspec": {
   "display_name": "Python 3 (ipykernel)",
   "language": "python",
   "name": "python3"
  },
  "language_info": {
   "codemirror_mode": {
    "name": "ipython",
    "version": 3
   },
   "file_extension": ".py",
   "mimetype": "text/x-python",
   "name": "python",
   "nbconvert_exporter": "python",
   "pygments_lexer": "ipython3",
   "version": "3.10.14"
  }
 },
 "nbformat": 4,
 "nbformat_minor": 4
}
