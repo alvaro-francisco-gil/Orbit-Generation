{
 "cells": [
  {
   "cell_type": "code",
   "execution_count": null,
   "metadata": {},
   "outputs": [],
   "source": [
    "#| default_exp dataset"
   ]
  },
  {
   "cell_type": "code",
   "execution_count": null,
   "metadata": {},
   "outputs": [],
   "source": [
    "import os"
   ]
  },
  {
   "cell_type": "code",
   "execution_count": null,
   "metadata": {},
   "outputs": [],
   "source": [
    "#| export\n",
    "def get_orbit_data_and_labels(data_directory=None):\n",
    "    \"\"\"\n",
    "    Load orbit data from an HDF5 file and corresponding labels from a MAT file.\n",
    "\n",
    "    If no data_directory is specified, a default relative path is used. The function expects specific \n",
    "    file structures ('em_orbits.h5' and 'EM_IC_ARRAY.mat') within the directory.\n",
    "\n",
    "    Returns:\n",
    "        tuple: \n",
    "            - orbit_data (numpy.ndarray): Reshaped and transposed orbit data suitable for analysis.\n",
    "            - labels (pandas.Series): Corresponding orbit classification labels, replicated as necessary.\n",
    "\n",
    "    The function reshapes the orbit data and adjusts dimensions to prepare for machine learning or other analyses.\n",
    "    Labels are extracted from a MAT file and matched to the reshaped orbit data.\n",
    "    \"\"\"\n",
    "\n",
    "    # Define the default data directory based on the script's location if not provided\n",
    "    if data_directory is None:\n",
    "        data_directory = os.path.join(os.path.dirname(__file__), \"Data\")\n",
    "    \n",
    "    # Get Orbit Data\n",
    "    hdf5_file_path = os.path.join(data_directory, \"em_orbits.h5\")\n",
    "    with h5py.File(hdf5_file_path, 'r') as file:\n",
    "        data = np.array(file['/files/PERIODIC ORBITS'])\n",
    "    reshaped_array = data.reshape(36071, 7, 5, 1500)\n",
    "    orbit_data = reshaped_array.transpose(0, 2, 1, 3).reshape(36071 * 5, 7, 1500)\n",
    "    \n",
    "    # Get Orbit Labels\n",
    "    labels_df = get_orbit_features(orbit_directory)\n",
    "    labels = pd.Series(labels_df['Orbit Family']).repeat(5).reset_index(drop=True)\n",
    "\n",
    "    return orbit_data, labels"
   ]
  }
 ],
 "metadata": {
  "language_info": {
   "name": "python"
  }
 },
 "nbformat": 4,
 "nbformat_minor": 2
}
