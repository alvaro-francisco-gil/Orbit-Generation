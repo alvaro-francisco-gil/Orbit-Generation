{
 "cells": [
  {
   "cell_type": "code",
   "execution_count": null,
   "metadata": {},
   "outputs": [],
   "source": [
    "#| default_exp constants"
   ]
  },
  {
   "cell_type": "code",
   "execution_count": null,
   "metadata": {},
   "outputs": [],
   "source": [
    "#| export\n",
    "MU = 0.0122"
   ]
  },
  {
   "cell_type": "code",
   "execution_count": null,
   "metadata": {},
   "outputs": [],
   "source": [
    "#| export\n",
    "EM_POINTS={\n",
    "    'Moon': (1-MU,0,0),\n",
    "    'Earth': (-MU,0,0),\n",
    "    'Lagrange 1': (0.8369,0,0),\n",
    "    'Lagrange 2': (1.1557,0,0)\n",
    "}"
   ]
  },
  {
   "cell_type": "code",
   "execution_count": null,
   "metadata": {},
   "outputs": [],
   "source": [
    "#| export\n",
    "EM_ORBIT_TYPES = {\n",
    "    1: \"S_BN\",\n",
    "    2: \"S_BS\",\n",
    "    3: \"S_DN\",\n",
    "    4: \"S_DPO\",\n",
    "    5: \"S_DRO\",\n",
    "    6: \"S_DS\",\n",
    "    7: \"S_L1_A\",\n",
    "    8: \"S_L1_HN\",\n",
    "    9: \"S_L1_HS\",\n",
    "    10: \"S_L1_L\",\n",
    "    11: \"S_L1_V\",\n",
    "    12: \"S_L2_A\",\n",
    "    13: \"S_L2_HN\",\n",
    "    14: \"S_L2_HS\",\n",
    "    15: \"S_L2_L\",\n",
    "    16: \"S_L2_V\",\n",
    "    17: \"S_L3_A\",\n",
    "    18: \"S_L3_HN\",\n",
    "    19: \"S_L3_HS\",\n",
    "    20: \"S_L3_L\",\n",
    "    21: \"S_L3_V\",\n",
    "    22: \"S_L4_A\",\n",
    "    23: \"S_L4_LP\",\n",
    "    24: \"S_L4_SP\",\n",
    "    25: \"S_L4_V\",\n",
    "    26: \"S_L5_A\",\n",
    "    27: \"S_L5_LP\",\n",
    "    28: \"S_L5_SP\",\n",
    "    29: \"S_L5_V\",\n",
    "    30: \"S_LPOE\",\n",
    "    31: \"S_LPOW\"\n",
    "}"
   ]
  }
 ],
 "metadata": {
  "kernelspec": {
   "display_name": "python3",
   "language": "python",
   "name": "python3"
  }
 },
 "nbformat": 4,
 "nbformat_minor": 2
}
