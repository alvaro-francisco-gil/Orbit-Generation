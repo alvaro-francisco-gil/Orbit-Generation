{
 "cells": [
  {
   "cell_type": "markdown",
   "metadata": {},
   "source": [
    "# Constants\n",
    "\n",
    "> Physical constants used in the project"
   ]
  },
  {
   "cell_type": "code",
   "execution_count": null,
   "metadata": {},
   "outputs": [],
   "source": [
    "#| default_exp constants"
   ]
  },
  {
   "cell_type": "code",
   "execution_count": null,
   "metadata": {},
   "outputs": [],
   "source": [
    "#| export\n",
    "#| hide\n",
    "import pandas as pd"
   ]
  },
  {
   "cell_type": "code",
   "execution_count": null,
   "metadata": {},
   "outputs": [],
   "source": [
    "#| export\n",
    "MU = 0.0122"
   ]
  },
  {
   "cell_type": "code",
   "execution_count": null,
   "metadata": {},
   "outputs": [],
   "source": [
    "#| export\n",
    "EM_POINTS={\n",
    "    'Moon': (1-MU,0,0),\n",
    "    'Earth': (-MU,0,0),\n",
    "    'Lagrange 1': (0.8369,0,0),\n",
    "    'Lagrange 2': (1.1557,0,0),\n",
    "    'Lagrange 3': (-1.0051,0,0),\n",
    "    'Lagrange 4': (0.4879,0.8660,0),\n",
    "    'Lagrange 5': (0.4879,-0.8660,0)\n",
    "}"
   ]
  },
  {
   "cell_type": "code",
   "execution_count": null,
   "metadata": {},
   "outputs": [],
   "source": [
    "#| export\n",
    "EM_ORBIT_TYPES = {\n",
    "    1: \"S_BN\",\n",
    "    2: \"S_BS\",\n",
    "    3: \"S_DN\",\n",
    "    4: \"S_DPO\",\n",
    "    5: \"S_DRO\",\n",
    "    6: \"S_DS\",\n",
    "    7: \"S_L1_A\",\n",
    "    8: \"S_L1_HN\",\n",
    "    9: \"S_L1_HS\",\n",
    "    10: \"S_L1_L\",\n",
    "    11: \"S_L1_V\",\n",
    "    12: \"S_L2_A\",\n",
    "    13: \"S_L2_HN\",\n",
    "    14: \"S_L2_HS\",\n",
    "    15: \"S_L2_L\",\n",
    "    16: \"S_L2_V\",\n",
    "    17: \"S_L3_A\",\n",
    "    18: \"S_L3_HN\",\n",
    "    19: \"S_L3_HS\",\n",
    "    20: \"S_L3_L\",\n",
    "    21: \"S_L3_V\",\n",
    "    22: \"S_L4_A\",\n",
    "    23: \"S_L4_LP\",\n",
    "    24: \"S_L4_SP\",\n",
    "    25: \"S_L4_V\",\n",
    "    26: \"S_L5_A\",\n",
    "    27: \"S_L5_LP\",\n",
    "    28: \"S_L5_SP\",\n",
    "    29: \"S_L5_V\",\n",
    "    30: \"S_LPOE\",\n",
    "    31: \"S_LPOW\"\n",
    "}"
   ]
  },
  {
   "cell_type": "code",
   "execution_count": null,
   "metadata": {},
   "outputs": [],
   "source": [
    "#| export\n",
    "orbit_classification = {\n",
    "    \"Id\": [1, 2, 3, 4, 5, 6, 7, 8, 9, 10, 11, 12, 13, 14, 15, 16, 17, 18, 19, 20, 21, 22, 23, 24, 25, 26, 27, 28, 29, 30, 31, 32, 33, 34, 35, 36, 37, 38, 39, 40, 41, 42],\n",
    "    \"Label\": [\"S_BN\", \"S_BS\", \"S_DN\", \"S_DPO\", \"S_DRO\", \"S_DS\", \"S_L1_A\", \"S_L1_HN\", \"S_L1_HS\", \"S_L1_L\", \"S_L1_V\", \"S_L2_A\", \"S_L2_HN\", \"S_L2_HS\", \"S_L2_L\", \"S_L2_V\", \"S_L3_A\", \"S_L3_HN\", \"S_L3_HS\", \"S_L3_L\", \"S_L3_V\", \"S_L4_A\", \"S_L4_LP\", \"S_L4_SP\", \"S_L4_V\", \"S_L5_A\", \"S_L5_LP\", \"S_L5_SP\", \"S_L5_V\", \"S_LPOE\", \"S_LPOW\", \"S_R11\", \"S_R12\", \"S_R13\", \"S_R14\", \"S_R21\", \"S_R23\", \"S_R31\", \"S_R32\", \"S_R34\", \"S_R41\", \"S_R43\"],\n",
    "    \"Type\": [\"System-wide\", \"System-wide\", \"System-wide\", \"System-wide\", \"System-wide\", \"System-wide\", \"L1\", \"L1\", \"L1\", \"L1\", \"L1\", \"L2\", \"L2\", \"L2\", \"L2\", \"L2\", \"L3\", \"L3\", \"L3\", \"L3\", \"L3\", \"L4\", \"L4\", \"L4\", \"L4\", \"L5\", \"L5\", \"L5\", \"L5\", \"System-wide\", \"System-wide\", \"Resonant\", \"Resonant\", \"Resonant\", \"Resonant\", \"Resonant\", \"Resonant\", \"Resonant\", \"Resonant\", \"Resonant\", \"Resonant\", \"Resonant\"],\n",
    "    \"Subtype\": [\"Butterfly\", \"Butterfly\", \"Dragonfly\", \"Distant Prograde\", \"Distant Retrograde\", \"Dragonfly\", \"Axial\", \"Halo\", \"Halo\", \"Lyapunov\", \"Vertical\", \"Axial\", \"Halo\", \"Halo\", \"Lyapunov\", \"Vertical\", \"Axial\", \"Halo\", \"Halo\", \"Lyapunov\", \"Vertical\", \"Axial\", \"Long Period\", \"Long Period\", \"Vertical\", \"Axial\", \"Long Period\", \"Long Period\", \"Vertical\", \"Long Period\", \"Long Period\", \"Resonant 1,1\", \"Resonant 1,2\", \"Resonant 1,3\", \"Resonant 1,4\", \"Resonant 2,1\", \"Resonant 2,3\", \"Resonant 3,1\", \"Resonant 3,2\", \"Resonant 3,4\", \"Resonant 4,1\", \"Resonant 4,3\"],\n",
    "    \"Direction\": [\"North\", \"South\", \"North\", \"Planar\", \"Planar\", \"South\", \"No specification\", \"North\", \"South\", \"Planar\", \"No specification\", \"No specification\", \"North\", \"South\", \"Planar\", \"No specification\", \"No specification\", \"North\", \"South\", \"Planar\", \"No specification\", \"No specification\", \"East\", \"West\", \"No specification\", \"No specification\", \"North\", \"South\", \"No specification\", \"North\", \"South\", \"Planar\", \"Planar\", \"Planar\", \"Planar\", \"Planar\", \"Planar\", \"Planar\", \"Planar\", \"Planar\", \"Planar\", \"Planar\"]\n",
    "}\n",
    "\n",
    "ORBIT_CLASS_DF = pd.DataFrame(orbit_classification)"
   ]
  },
  {
   "cell_type": "code",
   "execution_count": null,
   "metadata": {},
   "outputs": [],
   "source": [
    "#| hide\n",
    "import nbdev; nbdev.nbdev_export()"
   ]
  }
 ],
 "metadata": {
  "kernelspec": {
   "display_name": "python3",
   "language": "python",
   "name": "python3"
  }
 },
 "nbformat": 4,
 "nbformat_minor": 2
}
