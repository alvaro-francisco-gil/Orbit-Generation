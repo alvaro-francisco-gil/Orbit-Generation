{
 "cells": [
  {
   "cell_type": "code",
   "execution_count": null,
   "metadata": {},
   "outputs": [],
   "source": [
    "#| default_exp constants"
   ]
  },
  {
   "cell_type": "code",
   "execution_count": null,
   "metadata": {},
   "outputs": [],
   "source": [
    "#| export\n",
    "MU = 0.0122"
   ]
  },
  {
   "cell_type": "code",
   "execution_count": null,
   "metadata": {},
   "outputs": [],
   "source": [
    "#| export\n",
    "EM_POINTS={\n",
    "    'Moon': (1-mu,0,0),\n",
    "    'Earth': (-mu,0,0),\n",
    "    'Lagrange 1': (0.8369,0,0),\n",
    "    'Lagrange 2': (1.1557,0,0)\n",
    "}"
   ]
  }
 ],
 "metadata": {},
 "nbformat": 4,
 "nbformat_minor": 2
}
