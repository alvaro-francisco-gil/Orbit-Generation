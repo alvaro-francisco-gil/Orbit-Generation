{
 "cells": [
  {
   "cell_type": "markdown",
   "metadata": {},
   "source": [
    "# Experiment\n",
    "\n",
    "> Scripts to perform the experiments"
   ]
  },
  {
   "cell_type": "code",
   "execution_count": 1,
   "metadata": {},
   "outputs": [],
   "source": [
    "#| default_exp experiment"
   ]
  },
  {
   "cell_type": "code",
   "execution_count": 2,
   "metadata": {},
   "outputs": [],
   "source": [
    "#| export\n",
    "#| hide\n",
    "import os\n",
    "import csv\n",
    "import pandas as pd\n",
    "import subprocess\n",
    "import shutil\n",
    "from typing import Dict, Any, List, Optional, Tuple\n",
    "\n",
    "from orbit_generation.constants import ORBIT_CLASS_DF"
   ]
  },
  {
   "cell_type": "code",
   "execution_count": 3,
   "metadata": {},
   "outputs": [],
   "source": [
    "#| export\n",
    "def setup_new_experiment(params: Dict[str, Any],              # Dictionary of parameters for the new experiment.\n",
    "                         experiments_folder: str,             # Path to the folder containing all experiments.\n",
    "                         csv_file: Optional[str] = None       # Optional path to the CSV file tracking experiment parameters.\n",
    "                        ) -> str:                             # The path to the newly created experiment folder.\n",
    "    \"\"\"\n",
    "    Sets up a new experiment by creating a new folder and updating the CSV file with experiment parameters.\n",
    "    \"\"\"\n",
    "    import csv\n",
    "    import os\n",
    "\n",
    "    # Ensure the experiments folder exists\n",
    "    if not os.path.exists(experiments_folder):\n",
    "        os.makedirs(experiments_folder)\n",
    "\n",
    "    # Default CSV file to 'experiments.csv' in the experiments_folder if not provided\n",
    "    if csv_file is None:\n",
    "        csv_file = os.path.join(experiments_folder, 'experiments.csv')\n",
    "\n",
    "    # Check if the parameters already exist in the CSV file\n",
    "    if os.path.isfile(csv_file):\n",
    "        with open(csv_file, mode='r') as file:\n",
    "            reader = csv.DictReader(file)\n",
    "            for row in reader:\n",
    "                if all(row[key] == str(value) for key, value in params.items()):\n",
    "                    existing_experiment_folder = os.path.join(experiments_folder, f\"experiment_{row['id']}\")\n",
    "                    print(f'Parameters already exist for experiment: {existing_experiment_folder}')\n",
    "                    return existing_experiment_folder\n",
    "\n",
    "    # Determine the next experiment number\n",
    "    experiment_folders = [d for d in os.listdir(experiments_folder) if os.path.isdir(os.path.join(experiments_folder, d))]\n",
    "    experiment_numbers = [int(folder.split('_')[-1]) for folder in experiment_folders if folder.startswith('experiment')]\n",
    "    next_experiment_number = max(experiment_numbers, default=0) + 1\n",
    "\n",
    "    # Create a new folder for the next experiment\n",
    "    new_experiment_folder = os.path.join(experiments_folder, f'experiment_{next_experiment_number}')\n",
    "    os.makedirs(new_experiment_folder)\n",
    "\n",
    "    # Update the CSV file with the new experiment's parameters\n",
    "    csv_exists = os.path.isfile(csv_file)\n",
    "    with open(csv_file, mode='a', newline='') as file:\n",
    "        writer = csv.writer(file)\n",
    "        # Write header if the CSV does not exist\n",
    "        if not csv_exists:\n",
    "            header = ['id'] + list(params.keys())\n",
    "            writer.writerow(header)\n",
    "        # Write the experiment parameters\n",
    "        row = [next_experiment_number] + list(params.values())\n",
    "        writer.writerow(row)\n",
    "\n",
    "    print(f'New experiment setup complete: {new_experiment_folder}')\n",
    "    print(f'Parameters saved to {csv_file}.')\n",
    "\n",
    "    return new_experiment_folder"
   ]
  },
  {
   "cell_type": "code",
   "execution_count": 4,
   "metadata": {},
   "outputs": [],
   "source": [
    "#| export\n",
    "def convert_notebook(notebook_path: str,                # The path to the notebook to convert.\n",
    "                     output_folder: str,                # The folder to save the converted file.\n",
    "                     output_filename: str,              # The name of the output file.\n",
    "                     format: str = 'html'               # The format to convert the notebook to ('html' or 'pdf').\n",
    "                    ) -> None:                          # This function does not return a value.\n",
    "    \"\"\"\n",
    "    Convert the specified Jupyter notebook to HTML or PDF.\n",
    "\n",
    "    :param notebook_path: The path to the notebook to convert.\n",
    "    :param output_folder: The folder to save the converted file.\n",
    "    :param output_filename: The name of the output file.\n",
    "    :param format: The format to convert the notebook to ('html' or 'pdf').\n",
    "    \"\"\"\n",
    "    if format == 'pdf' and shutil.which('pandoc') is None:\n",
    "        raise RuntimeError(\"Pandoc is required for PDF conversion but was not found. Please install Pandoc: https://pandoc.org/installing.html\")\n",
    "\n",
    "    # Create the full path for the output file\n",
    "    os.makedirs(output_folder, exist_ok=True)\n",
    "    output_path = os.path.join(output_folder, f\"{output_filename}.{format}\")\n",
    "\n",
    "    # Convert the notebook using nbconvert\n",
    "    command = f\"jupyter nbconvert --to {format} \\\"{notebook_path}\\\" --output \\\"{output_path}\\\"\"\n",
    "    try:\n",
    "        subprocess.run(command, shell=True, check=True, capture_output=True, text=True)\n",
    "        print(f\"Notebook converted to {format.upper()} and saved at {output_path}\")\n",
    "    except subprocess.CalledProcessError as e:\n",
    "        print(f\"An error occurred while converting the notebook to {format.upper()}:\")\n",
    "        print(e.stderr)\n",
    "        raise"
   ]
  },
  {
   "cell_type": "code",
   "execution_count": 5,
   "metadata": {},
   "outputs": [],
   "source": [
    "#| hide\n",
    "import nbdev; nbdev.nbdev_export()"
   ]
  }
 ],
 "metadata": {
  "kernelspec": {
   "display_name": "python3",
   "language": "python",
   "name": "python3"
  },
  "language_info": {
   "codemirror_mode": {
    "name": "ipython",
    "version": 3
   },
   "file_extension": ".py",
   "mimetype": "text/x-python",
   "name": "python",
   "nbconvert_exporter": "python",
   "pygments_lexer": "ipython3",
   "version": "3.8.10"
  }
 },
 "nbformat": 4,
 "nbformat_minor": 2
}
