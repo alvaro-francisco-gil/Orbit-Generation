{
 "cells": [
  {
   "cell_type": "markdown",
   "metadata": {},
   "source": [
    "# Model\n",
    "\n",
    "> Scripts to train the models"
   ]
  },
  {
   "cell_type": "code",
   "execution_count": 1,
   "metadata": {},
   "outputs": [],
   "source": [
    "#| default_exp model"
   ]
  },
  {
   "cell_type": "code",
   "execution_count": 2,
   "metadata": {},
   "outputs": [
    {
     "name": "stderr",
     "output_type": "stream",
     "text": [
      "2024-06-19 09:32:59.680221: I tensorflow/core/util/util.cc:169] oneDNN custom operations are on. You may see slightly different numerical results due to floating-point round-off errors from different computation orders. To turn them off, set the environment variable `TF_ENABLE_ONEDNN_OPTS=0`.\n",
      "2024-06-19 09:33:04.085476: I tensorflow/core/platform/cpu_feature_guard.cc:193] This TensorFlow binary is optimized with oneAPI Deep Neural Network Library (oneDNN) to use the following CPU instructions in performance-critical operations:  AVX2 AVX512F AVX512_VNNI FMA\n",
      "To enable them in other operations, rebuild TensorFlow with the appropriate compiler flags.\n",
      "2024-06-19 09:33:06.847173: I tensorflow/core/common_runtime/gpu/gpu_device.cc:1532] Created device /job:localhost/replica:0/task:0/device:GPU:0 with 15786 MB memory:  -> device: 0, name: NVIDIA GeForce RTX 3090, pci bus id: 0000:18:00.0, compute capability: 8.6\n",
      "2024-06-19 09:33:06.848138: I tensorflow/core/common_runtime/gpu/gpu_device.cc:1532] Created device /job:localhost/replica:0/task:0/device:GPU:1 with 12673 MB memory:  -> device: 1, name: NVIDIA GeForce RTX 3090, pci bus id: 0000:1c:00.0, compute capability: 8.6\n",
      "2024-06-19 09:33:06.848893: I tensorflow/core/common_runtime/gpu/gpu_device.cc:1532] Created device /job:localhost/replica:0/task:0/device:GPU:2 with 10509 MB memory:  -> device: 2, name: NVIDIA GeForce RTX 3090, pci bus id: 0000:99:00.0, compute capability: 8.6\n",
      "2024-06-19 09:33:08.219272: I tensorflow/stream_executor/cuda/cuda_blas.cc:1786] TensorFloat-32 will be used for the matrix multiplication. This will only be logged once.\n",
      "2024-06-19 09:33:08.222349: I tensorflow/core/util/cuda_solvers.cc:179] Creating GpuSolver handles for stream 0x490b8460\n"
     ]
    }
   ],
   "source": [
    "#| export\n",
    "#| hide\n",
    "from tensorflow.keras.optimizers import Adam, SGD\n",
    "import tsgm.models"
   ]
  },
  {
   "cell_type": "code",
   "execution_count": 3,
   "metadata": {},
   "outputs": [],
   "source": [
    "#| export\n",
    "def get_model(params):\n",
    "    model_name = params['model_name']\n",
    "\n",
    "    if model_name == 'vae_conv5':\n",
    "        # Accessing model configuration from the zoo using parameters from the dictionary\n",
    "        architecture = tsgm.models.zoo[model_name](\n",
    "            seq_len=params['seq_len'], \n",
    "            feat_dim=params['feature_dim'], \n",
    "            latent_dim=params['latent_dim']\n",
    "        )\n",
    "\n",
    "        # Extracting encoder and decoder from the architecture\n",
    "        encoder, decoder = architecture.encoder, architecture.decoder\n",
    "\n",
    "        # Build the VAE\n",
    "        vae = tsgm.models.cvae.BetaVAE(encoder, decoder)\n",
    "        return vae\n",
    "\n",
    "    elif model_name == 'timeGAN':\n",
    "        model = tsgm.models.timeGAN.TimeGAN(\n",
    "            seq_len=params['seq_len'],\n",
    "            module=\"gru\",\n",
    "            hidden_dim=24,\n",
    "            n_features=params['feature_dim'],\n",
    "            n_layers=3,\n",
    "            batch_size=256,\n",
    "            gamma=1.0,\n",
    "        )\n",
    "        # .compile() sets all optimizers to Adam by default\n",
    "        model.compile()\n",
    "        return model\n",
    "\n",
    "    else:\n",
    "        raise ValueError(f\"Unsupported model_name: {model_name}\")"
   ]
  },
  {
   "cell_type": "code",
   "execution_count": 4,
   "metadata": {},
   "outputs": [],
   "source": [
    "#| export\n",
    "def get_optimizer(optimizer_config):\n",
    "    name = optimizer_config['name'].lower()\n",
    "    if name == 'adam':\n",
    "        return Adam(learning_rate=optimizer_config.get('learning_rate', 0.001))\n",
    "    elif name == 'sgd':\n",
    "        return SGD(learning_rate=optimizer_config.get('learning_rate', 0.01))\n",
    "    # Add additional optimizers as needed\n",
    "    raise ValueError(\"Unsupported optimizer: {}\".format(optimizer_config['name']))"
   ]
  },
  {
   "cell_type": "code",
   "execution_count": 5,
   "metadata": {},
   "outputs": [],
   "source": [
    "#| hide\n",
    "import nbdev; nbdev.nbdev_export()"
   ]
  }
 ],
 "metadata": {
  "kernelspec": {
   "display_name": "Python 3",
   "language": "python",
   "name": "python3"
  },
  "language_info": {
   "codemirror_mode": {
    "name": "ipython",
    "version": 3
   },
   "file_extension": ".py",
   "mimetype": "text/x-python",
   "name": "python",
   "nbconvert_exporter": "python",
   "pygments_lexer": "ipython3",
   "version": "3.8.10"
  }
 },
 "nbformat": 4,
 "nbformat_minor": 2
}
