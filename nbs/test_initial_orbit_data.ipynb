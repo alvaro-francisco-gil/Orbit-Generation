{
 "cells": [
  {
   "cell_type": "code",
   "execution_count": 1,
   "id": "b281a7f5-a6b7-44b5-bc4b-5f53734a8fb0",
   "metadata": {},
   "outputs": [],
   "source": [
    "import numpy as np\n",
    "import matplotlib.pyplot as plt\n",
    "from mpl_toolkits.mplot3d import Axes3D\n",
    "import plotly.graph_objects as go\n",
    "from scipy.io import loadmat\n",
    "import h5py"
   ]
  },
  {
   "cell_type": "markdown",
   "id": "e38c2be5-243e-4060-8f7b-32b317988d3d",
   "metadata": {},
   "source": [
    "# Function Definitions"
   ]
  },
  {
   "cell_type": "code",
   "execution_count": 7,
   "id": "6d031726-06da-4a16-91dd-f2c682423dd2",
   "metadata": {},
   "outputs": [],
   "source": [
    "from orbit_generation_testing.reader import *\n",
    "from orbit_generation_testing.visualize import *\n",
    "from orbit_generation_testing.stats import *"
   ]
  },
  {
   "cell_type": "code",
   "execution_count": 6,
   "id": "883262d0-b06b-4086-8a08-47e9d4cc6f94",
   "metadata": {},
   "outputs": [
    {
     "data": {
      "text/plain": [
       "(300, 6, 200)"
      ]
     },
     "execution_count": 6,
     "metadata": {},
     "output_type": "execute_result"
    }
   ],
   "source": [
    "mat_data= get_example_mat_data()\n",
    "mat_data.shape"
   ]
  },
  {
   "cell_type": "code",
   "execution_count": null,
   "id": "815ee5d0-8c43-439f-885b-cfc31d4646e9",
   "metadata": {},
   "outputs": [],
   "source": [
    "h5_data= get_example_h5_data()\n",
    "h5_data.shape"
   ]
  },
  {
   "cell_type": "code",
   "execution_count": null,
   "id": "8c3ffa3b-2970-492a-a27c-541c458d31f7",
   "metadata": {},
   "outputs": [],
   "source": [
    "example = select_and_remove(periodic_orbits, 10)"
   ]
  },
  {
   "cell_type": "code",
   "execution_count": null,
   "id": "bdd8f547-f9cc-45d6-ab0a-23a1541a5955",
   "metadata": {},
   "outputs": [],
   "source": [
    "example.shape"
   ]
  },
  {
   "cell_type": "code",
   "execution_count": null,
   "id": "dcb53f32-db31-464c-be8a-8d7e988e1a3a",
   "metadata": {},
   "outputs": [],
   "source": [
    "visualize_orbits_static(example)"
   ]
  },
  {
   "cell_type": "code",
   "execution_count": null,
   "id": "9aed8a7d-4752-4a6f-88bd-467c4d4dbc44",
   "metadata": {},
   "outputs": [],
   "source": [
    "visualize_orbits_static(data,[1,2,101,102])"
   ]
  },
  {
   "cell_type": "code",
   "execution_count": null,
   "id": "e48178d8-2cda-4695-9a67-0e70dedead7f",
   "metadata": {},
   "outputs": [],
   "source": []
  },
  {
   "cell_type": "code",
   "execution_count": null,
   "id": "91535fd0-4c9e-4e31-9b0f-982a5afa3062",
   "metadata": {},
   "outputs": [],
   "source": []
  },
  {
   "cell_type": "code",
   "execution_count": null,
   "id": "2475d849-2f8c-439e-af6d-d9dc14cac205",
   "metadata": {},
   "outputs": [],
   "source": [
    "visualize_dynamic_orbits_html(data=data, point_dict= points_to_add)"
   ]
  }
 ],
 "metadata": {
  "kernelspec": {
   "display_name": "Python 3 (ipykernel)",
   "language": "python",
   "name": "python3"
  },
  "language_info": {
   "codemirror_mode": {
    "name": "ipython",
    "version": 3
   },
   "file_extension": ".py",
   "mimetype": "text/x-python",
   "name": "python",
   "nbconvert_exporter": "python",
   "pygments_lexer": "ipython3",
   "version": "3.10.14"
  }
 },
 "nbformat": 4,
 "nbformat_minor": 5
}
